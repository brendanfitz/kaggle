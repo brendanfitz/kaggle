{
 "cells": [
  {
   "cell_type": "code",
   "execution_count": 1,
   "id": "2360acd7",
   "metadata": {},
   "outputs": [],
   "source": [
    "import pandas as pd\n",
    "import numpy as np\n",
    "import matplotlib.pyplot as plt\n",
    "import seaborn as sns\n",
    "from pathlib import Path\n",
    "from tqdm.notebook import tqdm\n",
    "import os\n",
    "import json\n",
    "import torch.nn as nn\n",
    "import torch\n",
    "\n",
    "\n",
    "competition = 'asl-signs'\n",
    "\n",
    "\n",
    "plt.style.use(\"ggplot\")"
   ]
  },
  {
   "cell_type": "code",
   "execution_count": 2,
   "id": "e5bea3eb",
   "metadata": {},
   "outputs": [],
   "source": [
    "iskaggle = os.environ.get('KAGGLE_KERNEL_RUN_TYPE', '')\n",
    "if iskaggle:\n",
    "    path = Path('..') / 'input'  / 'competition'\n",
    "    # !pip install -Uqq fastai\n",
    "else:\n",
    "    import zipfile, kaggle\n",
    "    path = Path.home() / '.data' / 'asl-signs'\n",
    "    if not path.exists():\n",
    "        path.mkdir(exist_ok=True)\n",
    "        kaggle.api.competition_download_cli(competition, path=path)\n",
    "        zipfile.ZipFile(path / f'{competition}.zip').extractall(path)"
   ]
  },
  {
   "cell_type": "markdown",
   "id": "6650527a",
   "metadata": {},
   "source": [
    "# Labeled Data"
   ]
  },
  {
   "cell_type": "code",
   "execution_count": 3,
   "id": "282c0489",
   "metadata": {},
   "outputs": [],
   "source": [
    "with open(path / 'sign_to_prediction_index_map.json') as f:\n",
    "    sign_labels = json.load(f)"
   ]
  },
  {
   "cell_type": "code",
   "execution_count": 4,
   "id": "8788641e",
   "metadata": {},
   "outputs": [
    {
     "data": {
      "text/html": [
       "<div>\n",
       "<style scoped>\n",
       "    .dataframe tbody tr th:only-of-type {\n",
       "        vertical-align: middle;\n",
       "    }\n",
       "\n",
       "    .dataframe tbody tr th {\n",
       "        vertical-align: top;\n",
       "    }\n",
       "\n",
       "    .dataframe thead th {\n",
       "        text-align: right;\n",
       "    }\n",
       "</style>\n",
       "<table border=\"1\" class=\"dataframe\">\n",
       "  <thead>\n",
       "    <tr style=\"text-align: right;\">\n",
       "      <th></th>\n",
       "      <th>path</th>\n",
       "      <th>participant_id</th>\n",
       "      <th>sequence_id</th>\n",
       "      <th>sign</th>\n",
       "      <th>cnt_partial_nulls</th>\n",
       "      <th>cnt_partial_nulls_by_frame</th>\n",
       "      <th>total_frames</th>\n",
       "      <th>face</th>\n",
       "      <th>left_hand</th>\n",
       "      <th>pose</th>\n",
       "      <th>right_hand</th>\n",
       "    </tr>\n",
       "    <tr>\n",
       "      <th>idx</th>\n",
       "      <th></th>\n",
       "      <th></th>\n",
       "      <th></th>\n",
       "      <th></th>\n",
       "      <th></th>\n",
       "      <th></th>\n",
       "      <th></th>\n",
       "      <th></th>\n",
       "      <th></th>\n",
       "      <th></th>\n",
       "      <th></th>\n",
       "    </tr>\n",
       "  </thead>\n",
       "  <tbody>\n",
       "    <tr>\n",
       "      <th>26734_1000035562</th>\n",
       "      <td>train_landmark_files/26734/1000035562.parquet</td>\n",
       "      <td>26734</td>\n",
       "      <td>1000035562</td>\n",
       "      <td>blow</td>\n",
       "      <td>0.0</td>\n",
       "      <td>0.0</td>\n",
       "      <td>23.0</td>\n",
       "      <td>23.0</td>\n",
       "      <td>0.0</td>\n",
       "      <td>23.0</td>\n",
       "      <td>11.0</td>\n",
       "    </tr>\n",
       "    <tr>\n",
       "      <th>28656_1000106739</th>\n",
       "      <td>train_landmark_files/28656/1000106739.parquet</td>\n",
       "      <td>28656</td>\n",
       "      <td>1000106739</td>\n",
       "      <td>wait</td>\n",
       "      <td>0.0</td>\n",
       "      <td>0.0</td>\n",
       "      <td>11.0</td>\n",
       "      <td>11.0</td>\n",
       "      <td>0.0</td>\n",
       "      <td>11.0</td>\n",
       "      <td>2.0</td>\n",
       "    </tr>\n",
       "    <tr>\n",
       "      <th>16069_100015657</th>\n",
       "      <td>train_landmark_files/16069/100015657.parquet</td>\n",
       "      <td>16069</td>\n",
       "      <td>100015657</td>\n",
       "      <td>cloud</td>\n",
       "      <td>0.0</td>\n",
       "      <td>0.0</td>\n",
       "      <td>105.0</td>\n",
       "      <td>105.0</td>\n",
       "      <td>28.0</td>\n",
       "      <td>105.0</td>\n",
       "      <td>0.0</td>\n",
       "    </tr>\n",
       "    <tr>\n",
       "      <th>25571_1000210073</th>\n",
       "      <td>train_landmark_files/25571/1000210073.parquet</td>\n",
       "      <td>25571</td>\n",
       "      <td>1000210073</td>\n",
       "      <td>bird</td>\n",
       "      <td>0.0</td>\n",
       "      <td>0.0</td>\n",
       "      <td>12.0</td>\n",
       "      <td>12.0</td>\n",
       "      <td>0.0</td>\n",
       "      <td>12.0</td>\n",
       "      <td>12.0</td>\n",
       "    </tr>\n",
       "    <tr>\n",
       "      <th>62590_1000240708</th>\n",
       "      <td>train_landmark_files/62590/1000240708.parquet</td>\n",
       "      <td>62590</td>\n",
       "      <td>1000240708</td>\n",
       "      <td>owie</td>\n",
       "      <td>0.0</td>\n",
       "      <td>0.0</td>\n",
       "      <td>18.0</td>\n",
       "      <td>18.0</td>\n",
       "      <td>0.0</td>\n",
       "      <td>18.0</td>\n",
       "      <td>18.0</td>\n",
       "    </tr>\n",
       "  </tbody>\n",
       "</table>\n",
       "</div>"
      ],
      "text/plain": [
       "                                                           path  \\\n",
       "idx                                                               \n",
       "26734_1000035562  train_landmark_files/26734/1000035562.parquet   \n",
       "28656_1000106739  train_landmark_files/28656/1000106739.parquet   \n",
       "16069_100015657    train_landmark_files/16069/100015657.parquet   \n",
       "25571_1000210073  train_landmark_files/25571/1000210073.parquet   \n",
       "62590_1000240708  train_landmark_files/62590/1000240708.parquet   \n",
       "\n",
       "                  participant_id  sequence_id   sign  cnt_partial_nulls  \\\n",
       "idx                                                                       \n",
       "26734_1000035562           26734   1000035562   blow                0.0   \n",
       "28656_1000106739           28656   1000106739   wait                0.0   \n",
       "16069_100015657            16069    100015657  cloud                0.0   \n",
       "25571_1000210073           25571   1000210073   bird                0.0   \n",
       "62590_1000240708           62590   1000240708   owie                0.0   \n",
       "\n",
       "                  cnt_partial_nulls_by_frame  total_frames   face  left_hand  \\\n",
       "idx                                                                            \n",
       "26734_1000035562                         0.0          23.0   23.0        0.0   \n",
       "28656_1000106739                         0.0          11.0   11.0        0.0   \n",
       "16069_100015657                          0.0         105.0  105.0       28.0   \n",
       "25571_1000210073                         0.0          12.0   12.0        0.0   \n",
       "62590_1000240708                         0.0          18.0   18.0        0.0   \n",
       "\n",
       "                   pose  right_hand  \n",
       "idx                                  \n",
       "26734_1000035562   23.0        11.0  \n",
       "28656_1000106739   11.0         2.0  \n",
       "16069_100015657   105.0         0.0  \n",
       "25571_1000210073   12.0        12.0  \n",
       "62590_1000240708   18.0        18.0  "
      ]
     },
     "execution_count": 4,
     "metadata": {},
     "output_type": "execute_result"
    }
   ],
   "source": [
    "train = (pd.read_csv(path / 'train_with_meta.csv')\n",
    "         .assign(idx=lambda x: x.participant_id.astype(str) + '_' + x.sequence_id.astype(str))\n",
    "         .set_index('idx')\n",
    "        )\n",
    "train.head()"
   ]
  },
  {
   "cell_type": "markdown",
   "id": "ef5220f4",
   "metadata": {},
   "source": [
    "# Competition Data Loader"
   ]
  },
  {
   "cell_type": "code",
   "execution_count": 5,
   "id": "a40e26d5",
   "metadata": {},
   "outputs": [],
   "source": [
    "ROWS_PER_FRAME = 543  # number of landmarks per frame\n",
    "\n",
    "def load_relevant_data_subset(pq_path):\n",
    "    data_columns = ['x', 'y', 'z']\n",
    "    data = pd.read_parquet(pq_path, columns=data_columns)\n",
    "    n_frames = int(len(data) / ROWS_PER_FRAME)\n",
    "    data = data.values.reshape(n_frames, ROWS_PER_FRAME, len(data_columns))\n",
    "    return data.astype(np.float32)"
   ]
  },
  {
   "cell_type": "markdown",
   "id": "4441d735",
   "metadata": {},
   "source": [
    "# Find record where both left and right hand first values are null"
   ]
  },
  {
   "cell_type": "code",
   "execution_count": 142,
   "id": "05cbfd35",
   "metadata": {},
   "outputs": [
    {
     "data": {
      "application/vnd.jupyter.widget-view+json": {
       "model_id": "c5a599d02b2041f69a3ceafd4d4f4b7c",
       "version_major": 2,
       "version_minor": 0
      },
      "text/plain": [
       "  0%|          | 0/94477 [00:00<?, ?it/s]"
      ]
     },
     "metadata": {},
     "output_type": "display_data"
    },
    {
     "data": {
      "text/plain": [
       "'49445_1001499433'"
      ]
     },
     "execution_count": 142,
     "metadata": {},
     "output_type": "execute_result"
    }
   ],
   "source": [
    "n = len(train)\n",
    "for i in tqdm(range(n)):\n",
    "    record = train.iloc[i]\n",
    "    record_id = str(record['participant_id']) + '_' + str(record['sequence_id'])\n",
    "\n",
    "    pq_path = path / record['path']\n",
    "    landmarks = pd.read_parquet(pq_path)\n",
    "    \n",
    "    \n",
    "    first_frame_mask = landmarks.loc[:, 'frame'] == landmarks.frame.min()\n",
    "    hands_mask = landmarks.loc[:, 'type'].isin(['left_hand', 'right_hand'])\n",
    "    landmarks = (landmarks.loc[first_frame_mask & hands_mask, :]\n",
    "     .set_index(['frame', 'type', 'landmark_index'])\n",
    "     .drop('row_id', axis=1)\n",
    "     .unstack('type')\n",
    "    )\n",
    "    if landmarks.isna().all().all():\n",
    "        break\n",
    "        \n",
    "record_id"
   ]
  },
  {
   "cell_type": "markdown",
   "id": "a40012ce",
   "metadata": {},
   "source": [
    "# Data Loader"
   ]
  },
  {
   "cell_type": "code",
   "execution_count": 10,
   "id": "23a72b6a",
   "metadata": {},
   "outputs": [],
   "source": [
    "class ASLRecord:\n",
    "    def __init__(self, record_id):\n",
    "        self.record_id = record_id\n",
    "        record = train.loc[self.record_id, :]\n",
    "\n",
    "        self.landmarks = pd.read_parquet(path / self.record['path'])\n",
    "        \n",
    "    @property\n",
    "    def hand(self):\n",
    "        return record[['left_hand', 'right_hand']].idxmax(axis=1).values[0]\n",
    "    \n",
    "    def transform_landmarks(self):\n",
    "        landmarks = self.landmarks\n",
    "        \n",
    "        landmarks = self.filter_types(landmarks)\n",
    "        \n",
    "        landmarks = self.flip_left_hand(landmarks)\n",
    "        \n",
    "        return landmarks_trans\n",
    "    \n",
    "    def filter_types(self, landmarks):\n",
    "        landmark_types = ['pose', self.hand]\n",
    "        type_mask = landmarks.type.isin(landmark_types)\n",
    "        landmarks = landmarks.loc[type_mask, :]\n",
    "        return landmarks\n",
    "        \n",
    "    def flip_left_hand(self, landmarks):\n",
    "        if hand == 'left_hand':\n",
    "            left_hand_mask = landmarks.loc[:, 'type'] == 'left_hand'\n",
    "            landmarks.loc[left_hand_mask, ['x', 'y']] = -landmarks.loc[left_hand_mask, ['x', 'y']]\n",
    "        return landmarks"
   ]
  },
  {
   "cell_type": "markdown",
   "id": "75fb4729",
   "metadata": {},
   "source": [
    "#### load landmarks"
   ]
  },
  {
   "cell_type": "code",
   "execution_count": 13,
   "id": "65f08b02",
   "metadata": {},
   "outputs": [
    {
     "data": {
      "text/html": [
       "<div>\n",
       "<style scoped>\n",
       "    .dataframe tbody tr th:only-of-type {\n",
       "        vertical-align: middle;\n",
       "    }\n",
       "\n",
       "    .dataframe tbody tr th {\n",
       "        vertical-align: top;\n",
       "    }\n",
       "\n",
       "    .dataframe thead th {\n",
       "        text-align: right;\n",
       "    }\n",
       "</style>\n",
       "<table border=\"1\" class=\"dataframe\">\n",
       "  <thead>\n",
       "    <tr style=\"text-align: right;\">\n",
       "      <th></th>\n",
       "      <th>frame</th>\n",
       "      <th>row_id</th>\n",
       "      <th>type</th>\n",
       "      <th>landmark_index</th>\n",
       "      <th>x</th>\n",
       "      <th>y</th>\n",
       "      <th>z</th>\n",
       "    </tr>\n",
       "  </thead>\n",
       "  <tbody>\n",
       "    <tr>\n",
       "      <th>0</th>\n",
       "      <td>103</td>\n",
       "      <td>103-face-0</td>\n",
       "      <td>face</td>\n",
       "      <td>0</td>\n",
       "      <td>0.437886</td>\n",
       "      <td>0.437599</td>\n",
       "      <td>-0.051134</td>\n",
       "    </tr>\n",
       "    <tr>\n",
       "      <th>1</th>\n",
       "      <td>103</td>\n",
       "      <td>103-face-1</td>\n",
       "      <td>face</td>\n",
       "      <td>1</td>\n",
       "      <td>0.443258</td>\n",
       "      <td>0.392901</td>\n",
       "      <td>-0.067054</td>\n",
       "    </tr>\n",
       "    <tr>\n",
       "      <th>2</th>\n",
       "      <td>103</td>\n",
       "      <td>103-face-2</td>\n",
       "      <td>face</td>\n",
       "      <td>2</td>\n",
       "      <td>0.443997</td>\n",
       "      <td>0.409998</td>\n",
       "      <td>-0.042990</td>\n",
       "    </tr>\n",
       "    <tr>\n",
       "      <th>3</th>\n",
       "      <td>103</td>\n",
       "      <td>103-face-3</td>\n",
       "      <td>face</td>\n",
       "      <td>3</td>\n",
       "      <td>0.435256</td>\n",
       "      <td>0.362771</td>\n",
       "      <td>-0.039492</td>\n",
       "    </tr>\n",
       "    <tr>\n",
       "      <th>4</th>\n",
       "      <td>103</td>\n",
       "      <td>103-face-4</td>\n",
       "      <td>face</td>\n",
       "      <td>4</td>\n",
       "      <td>0.443780</td>\n",
       "      <td>0.381762</td>\n",
       "      <td>-0.068013</td>\n",
       "    </tr>\n",
       "    <tr>\n",
       "      <th>...</th>\n",
       "      <td>...</td>\n",
       "      <td>...</td>\n",
       "      <td>...</td>\n",
       "      <td>...</td>\n",
       "      <td>...</td>\n",
       "      <td>...</td>\n",
       "      <td>...</td>\n",
       "    </tr>\n",
       "    <tr>\n",
       "      <th>57010</th>\n",
       "      <td>207</td>\n",
       "      <td>207-right_hand-16</td>\n",
       "      <td>right_hand</td>\n",
       "      <td>16</td>\n",
       "      <td>NaN</td>\n",
       "      <td>NaN</td>\n",
       "      <td>NaN</td>\n",
       "    </tr>\n",
       "    <tr>\n",
       "      <th>57011</th>\n",
       "      <td>207</td>\n",
       "      <td>207-right_hand-17</td>\n",
       "      <td>right_hand</td>\n",
       "      <td>17</td>\n",
       "      <td>NaN</td>\n",
       "      <td>NaN</td>\n",
       "      <td>NaN</td>\n",
       "    </tr>\n",
       "    <tr>\n",
       "      <th>57012</th>\n",
       "      <td>207</td>\n",
       "      <td>207-right_hand-18</td>\n",
       "      <td>right_hand</td>\n",
       "      <td>18</td>\n",
       "      <td>NaN</td>\n",
       "      <td>NaN</td>\n",
       "      <td>NaN</td>\n",
       "    </tr>\n",
       "    <tr>\n",
       "      <th>57013</th>\n",
       "      <td>207</td>\n",
       "      <td>207-right_hand-19</td>\n",
       "      <td>right_hand</td>\n",
       "      <td>19</td>\n",
       "      <td>NaN</td>\n",
       "      <td>NaN</td>\n",
       "      <td>NaN</td>\n",
       "    </tr>\n",
       "    <tr>\n",
       "      <th>57014</th>\n",
       "      <td>207</td>\n",
       "      <td>207-right_hand-20</td>\n",
       "      <td>right_hand</td>\n",
       "      <td>20</td>\n",
       "      <td>NaN</td>\n",
       "      <td>NaN</td>\n",
       "      <td>NaN</td>\n",
       "    </tr>\n",
       "  </tbody>\n",
       "</table>\n",
       "<p>57015 rows × 7 columns</p>\n",
       "</div>"
      ],
      "text/plain": [
       "       frame             row_id        type  landmark_index         x  \\\n",
       "0        103         103-face-0        face               0  0.437886   \n",
       "1        103         103-face-1        face               1  0.443258   \n",
       "2        103         103-face-2        face               2  0.443997   \n",
       "3        103         103-face-3        face               3  0.435256   \n",
       "4        103         103-face-4        face               4  0.443780   \n",
       "...      ...                ...         ...             ...       ...   \n",
       "57010    207  207-right_hand-16  right_hand              16       NaN   \n",
       "57011    207  207-right_hand-17  right_hand              17       NaN   \n",
       "57012    207  207-right_hand-18  right_hand              18       NaN   \n",
       "57013    207  207-right_hand-19  right_hand              19       NaN   \n",
       "57014    207  207-right_hand-20  right_hand              20       NaN   \n",
       "\n",
       "              y         z  \n",
       "0      0.437599 -0.051134  \n",
       "1      0.392901 -0.067054  \n",
       "2      0.409998 -0.042990  \n",
       "3      0.362771 -0.039492  \n",
       "4      0.381762 -0.068013  \n",
       "...         ...       ...  \n",
       "57010       NaN       NaN  \n",
       "57011       NaN       NaN  \n",
       "57012       NaN       NaN  \n",
       "57013       NaN       NaN  \n",
       "57014       NaN       NaN  \n",
       "\n",
       "[57015 rows x 7 columns]"
      ]
     },
     "execution_count": 13,
     "metadata": {},
     "output_type": "execute_result"
    }
   ],
   "source": [
    "# sign = 'cloud'\n",
    "# sign_mask = train.loc[:, 'sign'] == sign\n",
    "# sample = train.loc[sign_mask, :].sample(n=1, random_state=73)\n",
    "sample = train.loc['16069_100015657', :]\n",
    "\n",
    "landmarks = pd.read_parquet(path / sample['path'])\n",
    "landmarks"
   ]
  },
  {
   "cell_type": "markdown",
   "id": "ec9e2d2a",
   "metadata": {},
   "source": [
    "#### determine which hand has more frames"
   ]
  },
  {
   "cell_type": "code",
   "execution_count": 170,
   "id": "430eacc4",
   "metadata": {},
   "outputs": [
    {
     "data": {
      "text/plain": [
       "'left_hand'"
      ]
     },
     "execution_count": 170,
     "metadata": {},
     "output_type": "execute_result"
    }
   ],
   "source": [
    "hand = sample[['left_hand', 'right_hand']].idxmax(axis=1).values[0]\n",
    "hand"
   ]
  },
  {
   "cell_type": "markdown",
   "id": "3a090cf5",
   "metadata": {},
   "source": [
    "#### filter for hand with more frames and pose"
   ]
  },
  {
   "cell_type": "code",
   "execution_count": 171,
   "id": "a1cc4200",
   "metadata": {},
   "outputs": [
    {
     "data": {
      "text/plain": [
       "type\n",
       "left_hand    105\n",
       "pose         105\n",
       "Name: frame, dtype: int64"
      ]
     },
     "execution_count": 171,
     "metadata": {},
     "output_type": "execute_result"
    }
   ],
   "source": [
    "landmark_types = ['pose', hand]\n",
    "type_mask = landmarks.type.isin(landmark_types)\n",
    "landmarks = landmarks.loc[type_mask, :]\n",
    "landmarks.groupby('type').frame.nunique()"
   ]
  },
  {
   "cell_type": "markdown",
   "id": "151433c0",
   "metadata": {},
   "source": [
    "#### flip left hand if necessary"
   ]
  },
  {
   "cell_type": "code",
   "execution_count": 172,
   "id": "3862a7f6",
   "metadata": {},
   "outputs": [],
   "source": [
    "if hand == 'left_hand':\n",
    "    left_hand_mask = landmarks.loc[:, 'type'] == 'left_hand'\n",
    "    landmarks.loc[left_hand_mask, ['x', 'y']] = -landmarks.loc[left_hand_mask, ['x', 'y']]"
   ]
  },
  {
   "cell_type": "markdown",
   "id": "ec911916",
   "metadata": {},
   "source": [
    "#### drop all pose landmarks except necessary ones"
   ]
  },
  {
   "cell_type": "code",
   "execution_count": 173,
   "id": "1d10eb40",
   "metadata": {},
   "outputs": [
    {
     "data": {
      "text/plain": [
       "type\n",
       "left_hand    21\n",
       "pose          8\n",
       "Name: landmark_index, dtype: int64"
      ]
     },
     "execution_count": 173,
     "metadata": {},
     "output_type": "execute_result"
    }
   ],
   "source": [
    "pose_landmark_indices = [23, 11, 13, 15,\n",
    "                         24, 12, 14, 16]\n",
    "mask = ((landmarks.type == hand) | \n",
    "        ((landmarks.type == 'pose') & (landmarks.landmark_index.isin(pose_landmark_indices)))\n",
    "       )\n",
    "landmarks = landmarks.loc[mask, :]\n",
    "landmarks.groupby('type').landmark_index.nunique()"
   ]
  },
  {
   "cell_type": "markdown",
   "id": "8661df68",
   "metadata": {},
   "source": [
    "#### interpolate values"
   ]
  },
  {
   "cell_type": "code",
   "execution_count": 174,
   "id": "13ede98e",
   "metadata": {},
   "outputs": [
    {
     "data": {
      "text/html": [
       "<div>\n",
       "<style scoped>\n",
       "    .dataframe tbody tr th:only-of-type {\n",
       "        vertical-align: middle;\n",
       "    }\n",
       "\n",
       "    .dataframe tbody tr th {\n",
       "        vertical-align: top;\n",
       "    }\n",
       "\n",
       "    .dataframe thead th {\n",
       "        text-align: right;\n",
       "    }\n",
       "</style>\n",
       "<table border=\"1\" class=\"dataframe\">\n",
       "  <thead>\n",
       "    <tr style=\"text-align: right;\">\n",
       "      <th></th>\n",
       "      <th>frame</th>\n",
       "      <th>row_id</th>\n",
       "      <th>type</th>\n",
       "      <th>landmark_index</th>\n",
       "      <th>x</th>\n",
       "      <th>y</th>\n",
       "      <th>z</th>\n",
       "    </tr>\n",
       "  </thead>\n",
       "  <tbody>\n",
       "    <tr>\n",
       "      <th>468</th>\n",
       "      <td>103</td>\n",
       "      <td>103-left_hand-0</td>\n",
       "      <td>left_hand</td>\n",
       "      <td>0</td>\n",
       "      <td>-0.903850</td>\n",
       "      <td>-0.686351</td>\n",
       "      <td>-2.993881e-07</td>\n",
       "    </tr>\n",
       "    <tr>\n",
       "      <th>1011</th>\n",
       "      <td>104</td>\n",
       "      <td>104-left_hand-0</td>\n",
       "      <td>left_hand</td>\n",
       "      <td>0</td>\n",
       "      <td>-0.885604</td>\n",
       "      <td>-0.680159</td>\n",
       "      <td>-3.012174e-07</td>\n",
       "    </tr>\n",
       "    <tr>\n",
       "      <th>1554</th>\n",
       "      <td>105</td>\n",
       "      <td>105-left_hand-0</td>\n",
       "      <td>left_hand</td>\n",
       "      <td>0</td>\n",
       "      <td>-0.871571</td>\n",
       "      <td>-0.672559</td>\n",
       "      <td>-3.034679e-07</td>\n",
       "    </tr>\n",
       "    <tr>\n",
       "      <th>2097</th>\n",
       "      <td>106</td>\n",
       "      <td>106-left_hand-0</td>\n",
       "      <td>left_hand</td>\n",
       "      <td>0</td>\n",
       "      <td>-0.868469</td>\n",
       "      <td>-0.668436</td>\n",
       "      <td>-2.915684e-07</td>\n",
       "    </tr>\n",
       "    <tr>\n",
       "      <th>2640</th>\n",
       "      <td>107</td>\n",
       "      <td>107-left_hand-0</td>\n",
       "      <td>left_hand</td>\n",
       "      <td>0</td>\n",
       "      <td>NaN</td>\n",
       "      <td>NaN</td>\n",
       "      <td>NaN</td>\n",
       "    </tr>\n",
       "    <tr>\n",
       "      <th>3183</th>\n",
       "      <td>108</td>\n",
       "      <td>108-left_hand-0</td>\n",
       "      <td>left_hand</td>\n",
       "      <td>0</td>\n",
       "      <td>-0.896639</td>\n",
       "      <td>-0.687552</td>\n",
       "      <td>4.655252e-07</td>\n",
       "    </tr>\n",
       "    <tr>\n",
       "      <th>3726</th>\n",
       "      <td>109</td>\n",
       "      <td>109-left_hand-0</td>\n",
       "      <td>left_hand</td>\n",
       "      <td>0</td>\n",
       "      <td>NaN</td>\n",
       "      <td>NaN</td>\n",
       "      <td>NaN</td>\n",
       "    </tr>\n",
       "    <tr>\n",
       "      <th>4269</th>\n",
       "      <td>110</td>\n",
       "      <td>110-left_hand-0</td>\n",
       "      <td>left_hand</td>\n",
       "      <td>0</td>\n",
       "      <td>NaN</td>\n",
       "      <td>NaN</td>\n",
       "      <td>NaN</td>\n",
       "    </tr>\n",
       "    <tr>\n",
       "      <th>4812</th>\n",
       "      <td>111</td>\n",
       "      <td>111-left_hand-0</td>\n",
       "      <td>left_hand</td>\n",
       "      <td>0</td>\n",
       "      <td>-0.858570</td>\n",
       "      <td>-0.617604</td>\n",
       "      <td>1.731760e-07</td>\n",
       "    </tr>\n",
       "    <tr>\n",
       "      <th>5355</th>\n",
       "      <td>112</td>\n",
       "      <td>112-left_hand-0</td>\n",
       "      <td>left_hand</td>\n",
       "      <td>0</td>\n",
       "      <td>-0.875549</td>\n",
       "      <td>-0.618447</td>\n",
       "      <td>1.150485e-07</td>\n",
       "    </tr>\n",
       "  </tbody>\n",
       "</table>\n",
       "</div>"
      ],
      "text/plain": [
       "      frame           row_id       type  landmark_index         x         y  \\\n",
       "468     103  103-left_hand-0  left_hand               0 -0.903850 -0.686351   \n",
       "1011    104  104-left_hand-0  left_hand               0 -0.885604 -0.680159   \n",
       "1554    105  105-left_hand-0  left_hand               0 -0.871571 -0.672559   \n",
       "2097    106  106-left_hand-0  left_hand               0 -0.868469 -0.668436   \n",
       "2640    107  107-left_hand-0  left_hand               0       NaN       NaN   \n",
       "3183    108  108-left_hand-0  left_hand               0 -0.896639 -0.687552   \n",
       "3726    109  109-left_hand-0  left_hand               0       NaN       NaN   \n",
       "4269    110  110-left_hand-0  left_hand               0       NaN       NaN   \n",
       "4812    111  111-left_hand-0  left_hand               0 -0.858570 -0.617604   \n",
       "5355    112  112-left_hand-0  left_hand               0 -0.875549 -0.618447   \n",
       "\n",
       "                 z  \n",
       "468  -2.993881e-07  \n",
       "1011 -3.012174e-07  \n",
       "1554 -3.034679e-07  \n",
       "2097 -2.915684e-07  \n",
       "2640           NaN  \n",
       "3183  4.655252e-07  \n",
       "3726           NaN  \n",
       "4269           NaN  \n",
       "4812  1.731760e-07  \n",
       "5355  1.150485e-07  "
      ]
     },
     "execution_count": 174,
     "metadata": {},
     "output_type": "execute_result"
    }
   ],
   "source": [
    "mask = (landmarks.type == hand) & (landmarks.landmark_index == 0)\n",
    "landmarks.loc[mask, :].head(10)"
   ]
  },
  {
   "cell_type": "code",
   "execution_count": 175,
   "id": "f94417da",
   "metadata": {},
   "outputs": [
    {
     "data": {
      "text/html": [
       "<div>\n",
       "<style scoped>\n",
       "    .dataframe tbody tr th:only-of-type {\n",
       "        vertical-align: middle;\n",
       "    }\n",
       "\n",
       "    .dataframe tbody tr th {\n",
       "        vertical-align: top;\n",
       "    }\n",
       "\n",
       "    .dataframe thead th {\n",
       "        text-align: right;\n",
       "    }\n",
       "</style>\n",
       "<table border=\"1\" class=\"dataframe\">\n",
       "  <thead>\n",
       "    <tr style=\"text-align: right;\">\n",
       "      <th></th>\n",
       "      <th>frame</th>\n",
       "      <th>type</th>\n",
       "      <th>landmark_index</th>\n",
       "      <th>row_id</th>\n",
       "      <th>x</th>\n",
       "      <th>y</th>\n",
       "      <th>z</th>\n",
       "    </tr>\n",
       "  </thead>\n",
       "  <tbody>\n",
       "    <tr>\n",
       "      <th>0</th>\n",
       "      <td>103</td>\n",
       "      <td>left_hand</td>\n",
       "      <td>0</td>\n",
       "      <td>103-left_hand-0</td>\n",
       "      <td>-0.903850</td>\n",
       "      <td>-0.686351</td>\n",
       "      <td>-2.993881e-07</td>\n",
       "    </tr>\n",
       "    <tr>\n",
       "      <th>29</th>\n",
       "      <td>104</td>\n",
       "      <td>left_hand</td>\n",
       "      <td>0</td>\n",
       "      <td>104-left_hand-0</td>\n",
       "      <td>-0.885604</td>\n",
       "      <td>-0.680159</td>\n",
       "      <td>-3.012174e-07</td>\n",
       "    </tr>\n",
       "    <tr>\n",
       "      <th>58</th>\n",
       "      <td>105</td>\n",
       "      <td>left_hand</td>\n",
       "      <td>0</td>\n",
       "      <td>105-left_hand-0</td>\n",
       "      <td>-0.871571</td>\n",
       "      <td>-0.672559</td>\n",
       "      <td>-3.034679e-07</td>\n",
       "    </tr>\n",
       "    <tr>\n",
       "      <th>87</th>\n",
       "      <td>106</td>\n",
       "      <td>left_hand</td>\n",
       "      <td>0</td>\n",
       "      <td>106-left_hand-0</td>\n",
       "      <td>-0.868469</td>\n",
       "      <td>-0.668436</td>\n",
       "      <td>-2.915684e-07</td>\n",
       "    </tr>\n",
       "    <tr>\n",
       "      <th>116</th>\n",
       "      <td>107</td>\n",
       "      <td>left_hand</td>\n",
       "      <td>0</td>\n",
       "      <td>107-left_hand-0</td>\n",
       "      <td>-0.882554</td>\n",
       "      <td>-0.677994</td>\n",
       "      <td>8.697840e-08</td>\n",
       "    </tr>\n",
       "    <tr>\n",
       "      <th>145</th>\n",
       "      <td>108</td>\n",
       "      <td>left_hand</td>\n",
       "      <td>0</td>\n",
       "      <td>108-left_hand-0</td>\n",
       "      <td>-0.896639</td>\n",
       "      <td>-0.687552</td>\n",
       "      <td>4.655252e-07</td>\n",
       "    </tr>\n",
       "    <tr>\n",
       "      <th>174</th>\n",
       "      <td>109</td>\n",
       "      <td>left_hand</td>\n",
       "      <td>0</td>\n",
       "      <td>109-left_hand-0</td>\n",
       "      <td>-0.883949</td>\n",
       "      <td>-0.664236</td>\n",
       "      <td>3.680755e-07</td>\n",
       "    </tr>\n",
       "    <tr>\n",
       "      <th>203</th>\n",
       "      <td>110</td>\n",
       "      <td>left_hand</td>\n",
       "      <td>0</td>\n",
       "      <td>110-left_hand-0</td>\n",
       "      <td>-0.871259</td>\n",
       "      <td>-0.640920</td>\n",
       "      <td>2.706257e-07</td>\n",
       "    </tr>\n",
       "    <tr>\n",
       "      <th>232</th>\n",
       "      <td>111</td>\n",
       "      <td>left_hand</td>\n",
       "      <td>0</td>\n",
       "      <td>111-left_hand-0</td>\n",
       "      <td>-0.858570</td>\n",
       "      <td>-0.617604</td>\n",
       "      <td>1.731760e-07</td>\n",
       "    </tr>\n",
       "    <tr>\n",
       "      <th>261</th>\n",
       "      <td>112</td>\n",
       "      <td>left_hand</td>\n",
       "      <td>0</td>\n",
       "      <td>112-left_hand-0</td>\n",
       "      <td>-0.875549</td>\n",
       "      <td>-0.618447</td>\n",
       "      <td>1.150485e-07</td>\n",
       "    </tr>\n",
       "  </tbody>\n",
       "</table>\n",
       "</div>"
      ],
      "text/plain": [
       "     frame       type  landmark_index           row_id         x         y  \\\n",
       "0      103  left_hand               0  103-left_hand-0 -0.903850 -0.686351   \n",
       "29     104  left_hand               0  104-left_hand-0 -0.885604 -0.680159   \n",
       "58     105  left_hand               0  105-left_hand-0 -0.871571 -0.672559   \n",
       "87     106  left_hand               0  106-left_hand-0 -0.868469 -0.668436   \n",
       "116    107  left_hand               0  107-left_hand-0 -0.882554 -0.677994   \n",
       "145    108  left_hand               0  108-left_hand-0 -0.896639 -0.687552   \n",
       "174    109  left_hand               0  109-left_hand-0 -0.883949 -0.664236   \n",
       "203    110  left_hand               0  110-left_hand-0 -0.871259 -0.640920   \n",
       "232    111  left_hand               0  111-left_hand-0 -0.858570 -0.617604   \n",
       "261    112  left_hand               0  112-left_hand-0 -0.875549 -0.618447   \n",
       "\n",
       "                z  \n",
       "0   -2.993881e-07  \n",
       "29  -3.012174e-07  \n",
       "58  -3.034679e-07  \n",
       "87  -2.915684e-07  \n",
       "116  8.697840e-08  \n",
       "145  4.655252e-07  \n",
       "174  3.680755e-07  \n",
       "203  2.706257e-07  \n",
       "232  1.731760e-07  \n",
       "261  1.150485e-07  "
      ]
     },
     "execution_count": 175,
     "metadata": {},
     "output_type": "execute_result"
    }
   ],
   "source": [
    "dims = ['type', 'landmark_index']\n",
    "landmarks = (landmarks.set_index(['frame', 'type', 'landmark_index'])\n",
    "             .sort_index(level=[2, 1, 0])\n",
    "             .assign(x=lambda x: x.groupby(dims).x.apply(lambda g: g.interpolate()),\n",
    "                     y=lambda x: x.groupby(dims).y.apply(lambda g: g.interpolate()),\n",
    "                     z=lambda x: x.groupby(dims).z.apply(lambda g: g.interpolate()),\n",
    "              )\n",
    "             .sort_index(level=[0, 1, 2])\n",
    "             .reset_index()\n",
    "            )\n",
    "mask = (landmarks.type == hand) & (landmarks.landmark_index == 0)\n",
    "landmarks.loc[mask, :].head(10)"
   ]
  },
  {
   "cell_type": "markdown",
   "id": "e350c1fb",
   "metadata": {},
   "source": [
    "#### drop na"
   ]
  },
  {
   "cell_type": "code",
   "execution_count": 176,
   "id": "001b14b8",
   "metadata": {},
   "outputs": [
    {
     "data": {
      "text/html": [
       "<div>\n",
       "<style scoped>\n",
       "    .dataframe tbody tr th:only-of-type {\n",
       "        vertical-align: middle;\n",
       "    }\n",
       "\n",
       "    .dataframe tbody tr th {\n",
       "        vertical-align: top;\n",
       "    }\n",
       "\n",
       "    .dataframe thead th {\n",
       "        text-align: right;\n",
       "    }\n",
       "</style>\n",
       "<table border=\"1\" class=\"dataframe\">\n",
       "  <thead>\n",
       "    <tr style=\"text-align: right;\">\n",
       "      <th></th>\n",
       "      <th>frame</th>\n",
       "      <th>type</th>\n",
       "      <th>landmark_index</th>\n",
       "      <th>row_id</th>\n",
       "      <th>x</th>\n",
       "      <th>y</th>\n",
       "      <th>z</th>\n",
       "    </tr>\n",
       "  </thead>\n",
       "  <tbody>\n",
       "    <tr>\n",
       "      <th>0</th>\n",
       "      <td>103</td>\n",
       "      <td>left_hand</td>\n",
       "      <td>0</td>\n",
       "      <td>103-left_hand-0</td>\n",
       "      <td>-0.903850</td>\n",
       "      <td>-0.686351</td>\n",
       "      <td>-2.993881e-07</td>\n",
       "    </tr>\n",
       "    <tr>\n",
       "      <th>1</th>\n",
       "      <td>103</td>\n",
       "      <td>left_hand</td>\n",
       "      <td>1</td>\n",
       "      <td>103-left_hand-1</td>\n",
       "      <td>-0.812678</td>\n",
       "      <td>-0.626594</td>\n",
       "      <td>4.002348e-03</td>\n",
       "    </tr>\n",
       "    <tr>\n",
       "      <th>2</th>\n",
       "      <td>103</td>\n",
       "      <td>left_hand</td>\n",
       "      <td>2</td>\n",
       "      <td>103-left_hand-2</td>\n",
       "      <td>-0.728513</td>\n",
       "      <td>-0.588752</td>\n",
       "      <td>-6.392229e-03</td>\n",
       "    </tr>\n",
       "    <tr>\n",
       "      <th>3</th>\n",
       "      <td>103</td>\n",
       "      <td>left_hand</td>\n",
       "      <td>3</td>\n",
       "      <td>103-left_hand-3</td>\n",
       "      <td>-0.651862</td>\n",
       "      <td>-0.586241</td>\n",
       "      <td>-2.300651e-02</td>\n",
       "    </tr>\n",
       "    <tr>\n",
       "      <th>4</th>\n",
       "      <td>103</td>\n",
       "      <td>left_hand</td>\n",
       "      <td>4</td>\n",
       "      <td>103-left_hand-4</td>\n",
       "      <td>-0.588590</td>\n",
       "      <td>-0.591355</td>\n",
       "      <td>-3.957435e-02</td>\n",
       "    </tr>\n",
       "    <tr>\n",
       "      <th>...</th>\n",
       "      <td>...</td>\n",
       "      <td>...</td>\n",
       "      <td>...</td>\n",
       "      <td>...</td>\n",
       "      <td>...</td>\n",
       "      <td>...</td>\n",
       "      <td>...</td>\n",
       "    </tr>\n",
       "    <tr>\n",
       "      <th>3040</th>\n",
       "      <td>207</td>\n",
       "      <td>pose</td>\n",
       "      <td>14</td>\n",
       "      <td>207-pose-14</td>\n",
       "      <td>-0.000111</td>\n",
       "      <td>0.984456</td>\n",
       "      <td>-5.291088e-01</td>\n",
       "    </tr>\n",
       "    <tr>\n",
       "      <th>3041</th>\n",
       "      <td>207</td>\n",
       "      <td>pose</td>\n",
       "      <td>15</td>\n",
       "      <td>207-pose-15</td>\n",
       "      <td>0.920563</td>\n",
       "      <td>0.557810</td>\n",
       "      <td>-1.808138e+00</td>\n",
       "    </tr>\n",
       "    <tr>\n",
       "      <th>3042</th>\n",
       "      <td>207</td>\n",
       "      <td>pose</td>\n",
       "      <td>16</td>\n",
       "      <td>207-pose-16</td>\n",
       "      <td>-0.023938</td>\n",
       "      <td>1.331330</td>\n",
       "      <td>-1.068886e+00</td>\n",
       "    </tr>\n",
       "    <tr>\n",
       "      <th>3043</th>\n",
       "      <td>207</td>\n",
       "      <td>pose</td>\n",
       "      <td>23</td>\n",
       "      <td>207-pose-23</td>\n",
       "      <td>0.716362</td>\n",
       "      <td>1.332831</td>\n",
       "      <td>-3.693836e-02</td>\n",
       "    </tr>\n",
       "    <tr>\n",
       "      <th>3044</th>\n",
       "      <td>207</td>\n",
       "      <td>pose</td>\n",
       "      <td>24</td>\n",
       "      <td>207-pose-24</td>\n",
       "      <td>0.296239</td>\n",
       "      <td>1.364313</td>\n",
       "      <td>4.181816e-02</td>\n",
       "    </tr>\n",
       "  </tbody>\n",
       "</table>\n",
       "<p>3045 rows × 7 columns</p>\n",
       "</div>"
      ],
      "text/plain": [
       "      frame       type  landmark_index           row_id         x         y  \\\n",
       "0       103  left_hand               0  103-left_hand-0 -0.903850 -0.686351   \n",
       "1       103  left_hand               1  103-left_hand-1 -0.812678 -0.626594   \n",
       "2       103  left_hand               2  103-left_hand-2 -0.728513 -0.588752   \n",
       "3       103  left_hand               3  103-left_hand-3 -0.651862 -0.586241   \n",
       "4       103  left_hand               4  103-left_hand-4 -0.588590 -0.591355   \n",
       "...     ...        ...             ...              ...       ...       ...   \n",
       "3040    207       pose              14      207-pose-14 -0.000111  0.984456   \n",
       "3041    207       pose              15      207-pose-15  0.920563  0.557810   \n",
       "3042    207       pose              16      207-pose-16 -0.023938  1.331330   \n",
       "3043    207       pose              23      207-pose-23  0.716362  1.332831   \n",
       "3044    207       pose              24      207-pose-24  0.296239  1.364313   \n",
       "\n",
       "                 z  \n",
       "0    -2.993881e-07  \n",
       "1     4.002348e-03  \n",
       "2    -6.392229e-03  \n",
       "3    -2.300651e-02  \n",
       "4    -3.957435e-02  \n",
       "...            ...  \n",
       "3040 -5.291088e-01  \n",
       "3041 -1.808138e+00  \n",
       "3042 -1.068886e+00  \n",
       "3043 -3.693836e-02  \n",
       "3044  4.181816e-02  \n",
       "\n",
       "[3045 rows x 7 columns]"
      ]
     },
     "execution_count": 176,
     "metadata": {},
     "output_type": "execute_result"
    }
   ],
   "source": [
    "landmarks"
   ]
  },
  {
   "cell_type": "code",
   "execution_count": 178,
   "id": "ba47c467",
   "metadata": {},
   "outputs": [
    {
     "data": {
      "text/plain": [
       "105"
      ]
     },
     "execution_count": 178,
     "metadata": {},
     "output_type": "execute_result"
    }
   ],
   "source": [
    "na_mask = landmarks.loc[:, ['x', 'y', 'z']].isna().any(axis=1)\n",
    "na_frames = landmarks.loc[na_mask, 'frame'].unique().tolist()\n",
    "\n",
    "na_frames_mask = landmarks.loc[:, 'frame'].isin(na_frames)\n",
    "landmarks = landmarks.loc[~na_frames_mask, :]\n",
    "\n",
    "landmarks.frame.nunique()"
   ]
  },
  {
   "cell_type": "markdown",
   "id": "7b960bb9",
   "metadata": {},
   "source": [
    "#### filter for only first [25] frames"
   ]
  },
  {
   "cell_type": "code",
   "execution_count": null,
   "id": "669eb0c9",
   "metadata": {},
   "outputs": [],
   "source": []
  },
  {
   "cell_type": "markdown",
   "id": "e6c51ffb",
   "metadata": {},
   "source": [
    "#### reshape values into frames"
   ]
  },
  {
   "cell_type": "code",
   "execution_count": 179,
   "id": "fb563fe1",
   "metadata": {},
   "outputs": [
    {
     "data": {
      "text/plain": [
       "(105, 29, 3)"
      ]
     },
     "execution_count": 179,
     "metadata": {},
     "output_type": "execute_result"
    }
   ],
   "source": [
    "n_frames = landmarks.frame.nunique()\n",
    "n_landmarks = landmarks[['type', 'landmark_index']].drop_duplicates().shape[0]\n",
    "landmarks = landmarks[['x', 'y', 'z']].values.reshape(n_frames, n_landmarks, 3)\n",
    "landmarks.shape"
   ]
  },
  {
   "cell_type": "code",
   "execution_count": 180,
   "id": "cd5dc91b",
   "metadata": {},
   "outputs": [
    {
     "data": {
      "text/plain": [
       "(105, 1, 87)"
      ]
     },
     "execution_count": 180,
     "metadata": {},
     "output_type": "execute_result"
    }
   ],
   "source": [
    "landmarks = np.expand_dims(landmarks.reshape(n_frames, -1), axis=1)\n",
    "landmarks.shape"
   ]
  },
  {
   "cell_type": "code",
   "execution_count": 181,
   "id": "5c5bc0dd",
   "metadata": {},
   "outputs": [],
   "source": [
    "t = torch.from_numpy(landmarks).float()"
   ]
  },
  {
   "cell_type": "markdown",
   "id": "8b7e4272",
   "metadata": {},
   "source": [
    "# Creating the network"
   ]
  },
  {
   "cell_type": "code",
   "execution_count": 182,
   "id": "12848387",
   "metadata": {},
   "outputs": [],
   "source": [
    "class RNN(nn.Module):\n",
    "    def __init__(self, input_size, hidden_size, output_size):\n",
    "        super(RNN, self).__init__()\n",
    "\n",
    "        self.hidden_size = hidden_size\n",
    "\n",
    "        self.i2h = nn.Linear(input_size + hidden_size, hidden_size)\n",
    "        self.i2o = nn.Linear(input_size + hidden_size, output_size)\n",
    "        self.softmax = nn.LogSoftmax(dim=1)\n",
    "\n",
    "    def forward(self, input, hidden):\n",
    "        combined = torch.cat((input, hidden), 1)\n",
    "        hidden = self.i2h(combined)\n",
    "        output = self.i2o(combined)\n",
    "        output = self.softmax(output)\n",
    "        return output, hidden\n",
    "\n",
    "    def initHidden(self):\n",
    "        return torch.zeros(1, self.hidden_size)\n",
    "\n",
    "    \n",
    "n_categories = len(sign_labels)\n",
    "input_size = landmarks.shape[-1]\n",
    "n_hidden = 128\n",
    "rnn = RNN(87, n_hidden, n_categories)"
   ]
  },
  {
   "cell_type": "code",
   "execution_count": 183,
   "id": "8a259d69",
   "metadata": {},
   "outputs": [
    {
     "data": {
      "text/plain": [
       "(tensor([[-5.5894, -5.4058, -5.3417, -5.6006, -5.8240, -5.0637, -5.3456, -5.2896,\n",
       "          -5.3976, -5.8262, -5.4935, -5.6289, -5.4381, -5.6393, -5.6580, -5.5651,\n",
       "          -5.7112, -5.8029, -5.1383, -5.5868, -5.8601, -5.8673, -5.1613, -5.4638,\n",
       "          -5.5701, -5.6110, -5.1036, -5.3559, -5.6054, -5.0678, -5.8407, -5.6069,\n",
       "          -5.7044, -5.4494, -5.3268, -5.4290, -5.4359, -4.8492, -5.3329, -5.5252,\n",
       "          -5.2975, -5.8166, -5.2127, -5.8265, -5.4571, -5.1762, -5.8186, -5.0081,\n",
       "          -5.7258, -5.8300, -5.3736, -5.4473, -5.4402, -5.6560, -5.4799, -5.2937,\n",
       "          -5.7398, -5.6416, -5.4367, -5.0709, -5.6134, -5.1219, -5.2797, -5.6966,\n",
       "          -5.2607, -5.8485, -5.8670, -5.3501, -5.5460, -5.7203, -5.2430, -6.0076,\n",
       "          -5.4949, -5.6375, -6.2089, -5.3503, -5.5782, -5.5460, -5.4479, -5.7929,\n",
       "          -5.8593, -5.6136, -5.2465, -5.8910, -5.4977, -5.5413, -5.7424, -5.8996,\n",
       "          -5.7615, -5.2673, -5.8692, -5.5273, -5.2324, -5.5683, -5.9701, -5.6533,\n",
       "          -6.0504, -5.4116, -5.6283, -5.3906, -5.1393, -5.5030, -5.3401, -5.4134,\n",
       "          -5.1987, -5.3742, -5.7953, -5.4425, -5.5844, -5.4701, -5.7924, -6.0546,\n",
       "          -5.6409, -5.4957, -5.4448, -5.5800, -5.4760, -5.7230, -5.3073, -5.9836,\n",
       "          -5.1920, -5.4387, -5.5735, -5.7843, -5.6214, -5.6554, -5.6438, -5.5236,\n",
       "          -5.8987, -6.0768, -5.9296, -5.8417, -5.5695, -5.9791, -5.0148, -5.7558,\n",
       "          -5.4093, -5.4561, -5.2270, -5.3914, -5.7401, -5.8114, -5.3243, -5.7467,\n",
       "          -5.3945, -5.0018, -5.5765, -5.6047, -5.4124, -5.7791, -5.3341, -4.8726,\n",
       "          -5.2840, -5.7998, -5.6315, -5.5808, -5.8095, -5.4448, -5.4892, -5.4673,\n",
       "          -5.4434, -5.9370, -5.3918, -5.9089, -5.8578, -4.9749, -6.0175, -5.6580,\n",
       "          -5.5050, -5.4583, -5.8264, -5.2677, -5.4024, -5.2738, -5.7202, -5.0713,\n",
       "          -5.6964, -5.7961, -5.4829, -5.3575, -5.6914, -5.5229, -5.6121, -5.1114,\n",
       "          -5.7738, -5.2268, -5.9118, -5.7223, -5.9827, -5.1648, -5.3788, -5.4535,\n",
       "          -5.5517, -6.1701, -5.6256, -5.8634, -5.4215, -5.3431, -5.7202, -5.2825,\n",
       "          -5.9077, -5.5326, -5.3797, -5.5612, -5.5358, -5.8882, -5.1301, -5.3636,\n",
       "          -5.5498, -5.4984, -5.7626, -5.5327, -5.3817, -5.3887, -5.0782, -5.3314,\n",
       "          -5.9692, -6.0450, -5.9614, -5.7903, -5.1033, -6.0897, -5.2441, -5.2345,\n",
       "          -5.9454, -5.8358, -5.9849, -5.4529, -5.1842, -5.5997, -5.7496, -5.7602,\n",
       "          -5.7088, -5.6289, -5.8840, -5.5089, -5.6667, -5.7296, -5.5844, -5.4677,\n",
       "          -5.6063, -6.0799, -5.3854, -5.5234, -5.6873, -5.5209, -5.3940, -5.4019,\n",
       "          -5.7663, -5.7748]], grad_fn=<LogSoftmaxBackward0>),\n",
       " tensor([[-0.1972, -0.1837,  0.3206,  0.2937, -0.1516, -0.1756,  0.3201, -0.0294,\n",
       "          -0.1783, -0.0842,  0.3050, -0.2006, -0.0256, -0.1531, -0.1248, -0.0214,\n",
       "           0.3964,  0.0724, -0.0322, -0.1021,  0.4858,  0.2526, -0.2158,  0.3485,\n",
       "           0.0149,  0.0053, -0.0038,  0.0554, -0.2245, -0.0155, -0.2882, -0.2123,\n",
       "          -0.5301, -0.0414,  0.2870,  0.1781,  0.0251, -0.0285,  0.5390, -0.1050,\n",
       "          -0.1757,  0.3300,  0.2880,  0.2876, -0.1718,  0.0947,  0.0806,  0.0458,\n",
       "           0.3617,  0.2517,  0.1868, -0.2029,  0.2381, -0.1419, -0.1456, -0.3891,\n",
       "          -0.0741,  0.0813, -0.1657,  0.0036, -0.3859, -0.1928,  0.0660, -0.5392,\n",
       "          -0.0310,  0.1582, -0.1504, -0.1234,  0.1053, -0.1693, -0.0884, -0.2661,\n",
       "          -0.1382, -0.0554,  0.0138,  0.2538,  0.1276, -0.0646, -0.0960, -0.1090,\n",
       "           0.1869, -0.0224, -0.2141,  0.1336, -0.1336, -0.0562, -0.1883, -0.3394,\n",
       "          -0.0073, -0.4845,  0.0455,  0.2897, -0.3371, -0.1329, -0.0828,  0.0284,\n",
       "          -0.0542,  0.0503,  0.1796, -0.2690, -0.1997,  0.1204, -0.0229,  0.0342,\n",
       "          -0.3853, -0.0447,  0.1388, -0.0973, -0.0542,  0.0835, -0.1409,  0.0470,\n",
       "          -0.0968,  0.1571, -0.1191,  0.2664,  0.0936,  0.1518, -0.0778, -0.0721,\n",
       "           0.3027, -0.4300,  0.2939,  0.1937, -0.0790,  0.2130, -0.1259,  0.1953]],\n",
       "        grad_fn=<AddmmBackward0>))"
      ]
     },
     "execution_count": 183,
     "metadata": {},
     "output_type": "execute_result"
    }
   ],
   "source": [
    "input_ = t[0]\n",
    "hidden = torch.zeros(1, n_hidden)\n",
    "\n",
    "output, next_hidden = rnn(input_, hidden)\n",
    "output, next_hidden"
   ]
  },
  {
   "cell_type": "markdown",
   "id": "128b8048",
   "metadata": {},
   "source": [
    "# Training"
   ]
  },
  {
   "cell_type": "markdown",
   "id": "f6a4379d",
   "metadata": {},
   "source": [
    "## Preparing the Network"
   ]
  },
  {
   "cell_type": "code",
   "execution_count": 184,
   "id": "61c7b548",
   "metadata": {},
   "outputs": [],
   "source": [
    "sign_labels_inv = {v: k for k, v in sign_labels.items()}"
   ]
  },
  {
   "cell_type": "code",
   "execution_count": 185,
   "id": "2f386ce3",
   "metadata": {},
   "outputs": [
    {
     "name": "stdout",
     "output_type": "stream",
     "text": [
      "('carrot', 37)\n"
     ]
    }
   ],
   "source": [
    "def categoryFromOutput(output):\n",
    "    top_n, top_i = output.topk(1)\n",
    "    category_i = top_i[0].item()\n",
    "    return sign_labels_inv[category_i], category_i\n",
    "\n",
    "print(categoryFromOutput(output))"
   ]
  },
  {
   "cell_type": "markdown",
   "id": "4e65ee30",
   "metadata": {},
   "source": [
    "## Training the Network"
   ]
  },
  {
   "cell_type": "code",
   "execution_count": 186,
   "id": "26a74a49",
   "metadata": {},
   "outputs": [],
   "source": [
    "def train_one_record(category_tensor, landmarks_tensor):\n",
    "    hidden = rnn.initHidden()\n",
    "\n",
    "    rnn.zero_grad()\n",
    "\n",
    "    for i in range(landmarks_tensor.size()[0]):\n",
    "        output, hidden = rnn(landmarks_tensor[i], hidden)\n",
    "\n",
    "    loss = criterion(output, category_tensor)\n",
    "    loss.backward()\n",
    "\n",
    "    # Add parameters' gradients to their values, multiplied by learning rate\n",
    "    for p in rnn.parameters():\n",
    "        p.data.add_(p.grad.data, alpha=-learning_rate)\n",
    "\n",
    "    return output, loss.item()"
   ]
  },
  {
   "cell_type": "code",
   "execution_count": 195,
   "id": "5374895e",
   "metadata": {},
   "outputs": [],
   "source": [
    "criterion = nn.NLLLoss()\n",
    "learning_rate = 0.005 # If you set this too high, it might explode. If too low, it might not learn"
   ]
  },
  {
   "cell_type": "code",
   "execution_count": 196,
   "id": "eb583292",
   "metadata": {},
   "outputs": [
    {
     "data": {
      "text/plain": [
       "(tensor([[-5.5232, -5.2619, -5.3445, -5.4194, -5.9100, -5.0852, -5.4301, -5.4576,\n",
       "          -5.4191, -5.7611, -5.4190, -5.7401, -5.4913, -5.5051, -5.7752, -5.4804,\n",
       "          -5.6500, -5.8049, -5.2098, -5.6500, -5.7285, -5.8559, -5.1742, -5.4735,\n",
       "          -5.6378, -5.8003, -5.2513, -5.3858, -5.6089, -4.9929, -5.8531, -5.5081,\n",
       "          -5.7392, -5.6099, -5.3243, -5.2845, -5.4441, -4.8316, -5.3344, -5.4918,\n",
       "          -5.3481, -5.6928, -5.2664, -5.9864, -5.4494, -5.3089, -5.7555, -5.1302,\n",
       "          -5.5694, -5.7502, -5.1991, -5.3975, -5.3705, -5.6784, -5.5866, -5.1510,\n",
       "          -5.6411, -5.3955, -5.4678, -5.1863, -5.7339, -5.4093, -5.3133, -5.8244,\n",
       "          -5.1101, -6.0080, -5.7383, -5.3812, -5.4127, -5.7971, -5.2081, -5.8999,\n",
       "          -5.4943, -5.5199, -6.1898, -5.3097, -5.6290, -5.5954, -5.5532, -5.7289,\n",
       "          -5.8330, -5.7020, -5.4065, -6.0114, -5.4673, -5.6993, -5.7046, -5.9451,\n",
       "          -5.9300, -5.2900, -5.8698, -5.6828, -5.1874, -5.5981, -5.7674, -5.5925,\n",
       "          -6.0452, -5.6702, -5.7477, -5.5506, -5.1342, -5.3403, -5.1824, -5.4304,\n",
       "          -5.2113, -5.4624, -5.5927, -5.3772, -5.7185, -5.2091, -5.9655, -6.0430,\n",
       "          -5.6801, -5.6629, -5.5229, -5.5834, -5.5623, -5.7294, -5.3756, -5.8761,\n",
       "          -5.3590, -5.4648, -5.5329, -5.7824, -5.6775, -5.7572, -5.5793, -5.5095,\n",
       "          -5.9919, -5.9779, -5.8801, -5.8303, -5.6543, -5.9990, -5.0815, -5.8747,\n",
       "          -5.1664, -5.5001, -4.9723, -5.4116, -5.7829, -5.8256, -5.2816, -5.6721,\n",
       "          -5.3753, -5.2605, -5.4507, -5.8062, -5.1458, -5.6942, -5.2710, -4.8349,\n",
       "          -5.1931, -5.8584, -5.7229, -5.3981, -5.8282, -5.5774, -5.5891, -5.5520,\n",
       "          -5.5261, -5.9150, -5.3474, -6.1441, -5.7943, -5.1043, -5.9398, -5.6653,\n",
       "          -5.4028, -5.3992, -5.8146, -5.1365, -5.2395, -5.3961, -5.7477, -5.1350,\n",
       "          -5.5497, -5.7164, -5.2730, -5.3964, -5.7284, -5.6082, -5.7308, -5.0641,\n",
       "          -5.6571, -5.1404, -6.0388, -5.7317, -5.8765, -5.0665, -5.4930, -5.4526,\n",
       "          -5.6475, -6.1334, -5.6261, -6.0108, -5.4565, -5.2224, -5.5697, -5.2128,\n",
       "          -5.8230, -5.4797, -5.2520, -5.7031, -5.7132, -5.7623, -5.1817, -5.2699,\n",
       "          -5.5435, -5.5135, -5.8118, -5.6164, -5.4307, -5.4492, -5.1430, -5.3639,\n",
       "          -5.7846, -6.1208, -6.0307, -5.9507, -4.8858, -6.0325, -5.3462, -5.2186,\n",
       "          -5.8861, -5.8298, -6.0838, -5.4484, -5.1045, -5.6446, -5.7557, -5.7671,\n",
       "          -5.6193, -5.5859, -5.9372, -5.6198, -5.6337, -5.5421, -5.7147, -5.3321,\n",
       "          -5.6486, -6.0939, -5.5064, -5.4471, -5.6572, -5.5810, -5.3931, -5.4323,\n",
       "          -5.8975, -5.6869]], grad_fn=<LogSoftmaxBackward0>),\n",
       " 5.569366931915283)"
      ]
     },
     "execution_count": 196,
     "metadata": {},
     "output_type": "execute_result"
    }
   ],
   "source": [
    "sign_idx = sign_labels[sample.sign.values[0]]\n",
    "category_tensor = torch.tensor([sign_idx], dtype=torch.long)\n",
    "\n",
    "output, loss = train_one_record(category_tensor, t)\n",
    "output, loss"
   ]
  },
  {
   "cell_type": "markdown",
   "id": "37f940df",
   "metadata": {},
   "source": [
    "# Error Analysis"
   ]
  },
  {
   "cell_type": "code",
   "execution_count": 237,
   "id": "bdb1d3de",
   "metadata": {},
   "outputs": [],
   "source": [
    "with torch.no_grad():\n",
    "    for X, y in test_dataloader:\n",
    "        pred = model(X)"
   ]
  },
  {
   "cell_type": "code",
   "execution_count": 238,
   "id": "df140f10",
   "metadata": {},
   "outputs": [],
   "source": [
    "with torch.no_grad():\n",
    "    X, y = test_dataloader.dataset.X, test_dataloader.dataset.y\n",
    "    pred = model(X).argmax(1)"
   ]
  },
  {
   "cell_type": "code",
   "execution_count": 239,
   "id": "d6022785",
   "metadata": {},
   "outputs": [],
   "source": [
    "preds = pd.DataFrame(y_test).assign(predicted=pred)"
   ]
  },
  {
   "cell_type": "code",
   "execution_count": 240,
   "id": "f8b73758",
   "metadata": {},
   "outputs": [],
   "source": [
    "sign_labels_inverse = {v: k for k, v in sign_labels.items()}"
   ]
  },
  {
   "cell_type": "code",
   "execution_count": 241,
   "id": "e01ef6f6",
   "metadata": {},
   "outputs": [],
   "source": [
    "preds = preds.assign(label=lambda x: x.label.map(sign_labels_inverse),\n",
    "                     predicted=lambda x: x.predicted.map(sign_labels_inverse),\n",
    "                     correct=lambda x: (x.label==x.predicted).astype(int)\n",
    "                    )"
   ]
  },
  {
   "cell_type": "code",
   "execution_count": 242,
   "id": "1d6b56bb",
   "metadata": {},
   "outputs": [],
   "source": [
    "(preds.groupby('label')\n",
    " .agg(\n",
    "     correct=pd.NamedAgg('correct', 'sum'),\n",
    "     total=pd.NamedAgg('label', 'count')\n",
    " )\n",
    " .assign(accuracy=lambda x: x.correct.div(x.total))\n",
    " .sort_values('accuracy', ascending=False)\n",
    " .to_csv('accuracy_by_word_actual.csv')\n",
    ")"
   ]
  },
  {
   "cell_type": "code",
   "execution_count": 243,
   "id": "37fc1f98",
   "metadata": {},
   "outputs": [],
   "source": [
    "(preds.groupby('predicted')\n",
    " .agg(\n",
    "     correct=pd.NamedAgg('correct', 'sum'),\n",
    "     total=pd.NamedAgg('label', 'count')\n",
    " )\n",
    " .assign(accuracy=lambda x: x.correct.div(x.total))\n",
    " .sort_values('accuracy', ascending=False)\n",
    " .to_csv('accuracy_by_word_predicted.csv')\n",
    ")"
   ]
  },
  {
   "cell_type": "markdown",
   "id": "afe2573c",
   "metadata": {},
   "source": [
    "# Tensorflow Conversion"
   ]
  },
  {
   "cell_type": "code",
   "execution_count": 244,
   "id": "12d1813f",
   "metadata": {},
   "outputs": [
    {
     "name": "stdout",
     "output_type": "stream",
     "text": [
      "Defaulting to user installation because normal site-packages is not writeable\n",
      "Collecting onnx-tf\n",
      "  Downloading onnx_tf-1.10.0-py3-none-any.whl (226 kB)\n",
      "\u001b[2K     \u001b[90m━━━━━━━━━━━━━━━━━━━━━━━━━━━━━━━━━━━━━━━\u001b[0m \u001b[32m226.1/226.1 kB\u001b[0m \u001b[31m4.1 MB/s\u001b[0m eta \u001b[36m0:00:00\u001b[0m00:01\u001b[0m\n",
      "\u001b[?25hRequirement already satisfied: onnx>=1.10.2 in /home/brendan/.local/lib/python3.10/site-packages (from onnx-tf) (1.12.0)\n",
      "Collecting tensorflow-addons\n",
      "  Downloading tensorflow_addons-0.19.0-cp310-cp310-manylinux_2_17_x86_64.manylinux2014_x86_64.whl (1.1 MB)\n",
      "\u001b[2K     \u001b[90m━━━━━━━━━━━━━━━━━━━━━━━━━━━━━━━━━━━━━━━━\u001b[0m \u001b[32m1.1/1.1 MB\u001b[0m \u001b[31m21.0 MB/s\u001b[0m eta \u001b[36m0:00:00\u001b[0ma \u001b[36m0:00:01\u001b[0m\n",
      "\u001b[?25hRequirement already satisfied: PyYAML in /home/brendan/.local/lib/python3.10/site-packages (from onnx-tf) (6.0)\n",
      "Requirement already satisfied: numpy>=1.16.6 in /home/brendan/.local/lib/python3.10/site-packages (from onnx>=1.10.2->onnx-tf) (1.23.4)\n",
      "Requirement already satisfied: protobuf<=3.20.1,>=3.12.2 in /home/brendan/.local/lib/python3.10/site-packages (from onnx>=1.10.2->onnx-tf) (3.20.1)\n",
      "Requirement already satisfied: typing-extensions>=3.6.2.1 in /usr/lib/python3.10/site-packages (from onnx>=1.10.2->onnx-tf) (4.5.0)\n",
      "Requirement already satisfied: packaging in /usr/lib/python3.10/site-packages (from tensorflow-addons->onnx-tf) (23.0)\n",
      "Collecting typeguard>=2.7\n",
      "  Downloading typeguard-2.13.3-py3-none-any.whl (17 kB)\n",
      "Installing collected packages: typeguard, tensorflow-addons, onnx-tf\n",
      "\u001b[33m  WARNING: The script onnx-tf is installed in '/home/brendan/.local/bin' which is not on PATH.\n",
      "  Consider adding this directory to PATH or, if you prefer to suppress this warning, use --no-warn-script-location.\u001b[0m\u001b[33m\n",
      "\u001b[0mSuccessfully installed onnx-tf-1.10.0 tensorflow-addons-0.19.0 typeguard-2.13.3\n",
      "\n",
      "\u001b[1m[\u001b[0m\u001b[34;49mnotice\u001b[0m\u001b[1;39;49m]\u001b[0m\u001b[39;49m A new release of pip available: \u001b[0m\u001b[31;49m22.3\u001b[0m\u001b[39;49m -> \u001b[0m\u001b[32;49m23.0.1\u001b[0m\n",
      "\u001b[1m[\u001b[0m\u001b[34;49mnotice\u001b[0m\u001b[1;39;49m]\u001b[0m\u001b[39;49m To update, run: \u001b[0m\u001b[32;49mpip install --upgrade pip\u001b[0m\n",
      "Defaulting to user installation because normal site-packages is not writeable\n",
      "\u001b[31mERROR: Could not find a version that satisfies the requirement tflite-runtime (from versions: none)\u001b[0m\u001b[31m\n",
      "\u001b[0m\u001b[31mERROR: No matching distribution found for tflite-runtime\u001b[0m\u001b[31m\n",
      "\u001b[0m\n",
      "\u001b[1m[\u001b[0m\u001b[34;49mnotice\u001b[0m\u001b[1;39;49m]\u001b[0m\u001b[39;49m A new release of pip available: \u001b[0m\u001b[31;49m22.3\u001b[0m\u001b[39;49m -> \u001b[0m\u001b[32;49m23.0.1\u001b[0m\n",
      "\u001b[1m[\u001b[0m\u001b[34;49mnotice\u001b[0m\u001b[1;39;49m]\u001b[0m\u001b[39;49m To update, run: \u001b[0m\u001b[32;49mpip install --upgrade pip\u001b[0m\n"
     ]
    }
   ],
   "source": [
    "!pip install onnx-tf\n",
    "!pip install tflite-runtime"
   ]
  },
  {
   "cell_type": "markdown",
   "id": "d5c42afd",
   "metadata": {},
   "source": [
    "# Submissions"
   ]
  },
  {
   "cell_type": "code",
   "execution_count": null,
   "id": "114ded2e",
   "metadata": {},
   "outputs": [],
   "source": [
    "import tflite_runtime.interpreter as tflite\n",
    "interpreter = tflite.Interpreter(model_path)\n",
    "\n",
    "found_signatures = list(interpreter.get_signature_list().keys())\n",
    "\n",
    "if REQUIRED_SIGNATURE not in found_signatures:\n",
    "    raise KernelEvalException('Required input signature not found.')\n",
    "\n",
    "prediction_fn = interpreter.get_signature_runner(\"serving_default\")\n",
    "output = prediction_fn(inputs=frames)\n",
    "sign = np.argmax(output[\"outputs\"])"
   ]
  }
 ],
 "metadata": {
  "kernelspec": {
   "display_name": "fastai",
   "language": "python",
   "name": "fastai"
  },
  "language_info": {
   "codemirror_mode": {
    "name": "ipython",
    "version": 3
   },
   "file_extension": ".py",
   "mimetype": "text/x-python",
   "name": "python",
   "nbconvert_exporter": "python",
   "pygments_lexer": "ipython3",
   "version": "3.9.13"
  },
  "toc": {
   "base_numbering": 1,
   "nav_menu": {},
   "number_sections": false,
   "sideBar": true,
   "skip_h1_title": false,
   "title_cell": "Table of Contents",
   "title_sidebar": "Contents",
   "toc_cell": false,
   "toc_position": {},
   "toc_section_display": true,
   "toc_window_display": true
  }
 },
 "nbformat": 4,
 "nbformat_minor": 5
}
