{
 "cells": [
  {
   "cell_type": "code",
   "execution_count": 1,
   "id": "e5663674",
   "metadata": {},
   "outputs": [],
   "source": [
    "import pandas as pd\n",
    "from pathlib import Path\n",
    "\n",
    "path = Path.home() / '.data' / 'asl-signs'"
   ]
  },
  {
   "cell_type": "code",
   "execution_count": 3,
   "id": "dc3b05d6",
   "metadata": {},
   "outputs": [],
   "source": [
    "sign_meta = (pd.read_csv(path / 'train_with_meta.csv', dtype=dict(sequence_id=str))\n",
    "             .set_index('sequence_id')\n",
    "            )\n",
    "\n",
    "COORD_COLS = ['x', 'y', 'z']\n",
    "LANDMARK_TYPES = ['left_hand', 'pose', 'right_hand']"
   ]
  },
  {
   "cell_type": "code",
   "execution_count": 26,
   "id": "5836da37",
   "metadata": {},
   "outputs": [
    {
     "data": {
      "text/plain": [
       "idx                                                        2044_115719649\n",
       "path                          train_landmark_files/2044/115719649.parquet\n",
       "participant_id                                                       2044\n",
       "sign                                                                 blow\n",
       "cnt_partial_nulls                                                     0.0\n",
       "cnt_partial_nulls_by_frame                                            0.0\n",
       "total_frames                                                          6.0\n",
       "face                                                                  6.0\n",
       "left_hand                                                             0.0\n",
       "pose                                                                  6.0\n",
       "right_hand                                                            3.0\n",
       "Name: 115719649, dtype: object"
      ]
     },
     "execution_count": 26,
     "metadata": {},
     "output_type": "execute_result"
    }
   ],
   "source": [
    "# sequence_id = '1951401018'\n",
    "sequence_id = '115719649'\n",
    "meta = sign_meta.loc[sequence_id, :]\n",
    "meta"
   ]
  },
  {
   "cell_type": "code",
   "execution_count": 27,
   "id": "76cbcaa6",
   "metadata": {},
   "outputs": [],
   "source": [
    "landmarks = pd.read_parquet(path / meta['path'])\n",
    "landmarks = landmarks.loc[landmarks.type.isin(LANDMARK_TYPES), ]"
   ]
  },
  {
   "cell_type": "code",
   "execution_count": 28,
   "id": "eefebfaa",
   "metadata": {},
   "outputs": [
    {
     "data": {
      "text/html": [
       "<div>\n",
       "<style scoped>\n",
       "    .dataframe tbody tr th:only-of-type {\n",
       "        vertical-align: middle;\n",
       "    }\n",
       "\n",
       "    .dataframe tbody tr th {\n",
       "        vertical-align: top;\n",
       "    }\n",
       "\n",
       "    .dataframe thead th {\n",
       "        text-align: right;\n",
       "    }\n",
       "</style>\n",
       "<table border=\"1\" class=\"dataframe\">\n",
       "  <thead>\n",
       "    <tr style=\"text-align: right;\">\n",
       "      <th></th>\n",
       "      <th>x</th>\n",
       "      <th>y</th>\n",
       "      <th>z</th>\n",
       "    </tr>\n",
       "  </thead>\n",
       "  <tbody>\n",
       "    <tr>\n",
       "      <th>522</th>\n",
       "      <td>NaN</td>\n",
       "      <td>NaN</td>\n",
       "      <td>NaN</td>\n",
       "    </tr>\n",
       "    <tr>\n",
       "      <th>1065</th>\n",
       "      <td>NaN</td>\n",
       "      <td>NaN</td>\n",
       "      <td>NaN</td>\n",
       "    </tr>\n",
       "    <tr>\n",
       "      <th>1608</th>\n",
       "      <td>NaN</td>\n",
       "      <td>NaN</td>\n",
       "      <td>NaN</td>\n",
       "    </tr>\n",
       "    <tr>\n",
       "      <th>2151</th>\n",
       "      <td>26.47</td>\n",
       "      <td>64.99</td>\n",
       "      <td>0.0</td>\n",
       "    </tr>\n",
       "    <tr>\n",
       "      <th>2694</th>\n",
       "      <td>28.61</td>\n",
       "      <td>62.25</td>\n",
       "      <td>0.0</td>\n",
       "    </tr>\n",
       "    <tr>\n",
       "      <th>3237</th>\n",
       "      <td>28.48</td>\n",
       "      <td>62.06</td>\n",
       "      <td>0.0</td>\n",
       "    </tr>\n",
       "  </tbody>\n",
       "</table>\n",
       "</div>"
      ],
      "text/plain": [
       "          x      y    z\n",
       "522     NaN    NaN  NaN\n",
       "1065    NaN    NaN  NaN\n",
       "1608    NaN    NaN  NaN\n",
       "2151  26.47  64.99  0.0\n",
       "2694  28.61  62.25  0.0\n",
       "3237  28.48  62.06  0.0"
      ]
     },
     "execution_count": 28,
     "metadata": {},
     "output_type": "execute_result"
    }
   ],
   "source": [
    "mask = ((landmarks.type == 'right_hand') & \n",
    "        (landmarks.landmark_index == 0) #&\n",
    "        #(landmarks.frame.between(29, 31))\n",
    "       )\n",
    "landmarks.loc[mask, COORD_COLS].multiply(100).round(2)"
   ]
  },
  {
   "cell_type": "code",
   "execution_count": 29,
   "id": "dd5c86c0",
   "metadata": {},
   "outputs": [],
   "source": [
    "inter_dims = ['type', 'landmark_index']\n",
    "landmarks = (landmarks.sort_values(['type', 'landmark_index', 'frame'])\n",
    "             .assign(x=lambda x: x.groupby(inter_dims).x.apply(lambda g: g.interpolate()),\n",
    "                     y=lambda x: x.groupby(inter_dims).y.apply(lambda g: g.interpolate()),\n",
    "                     z=lambda x: x.groupby(inter_dims).z.apply(lambda g: g.interpolate()),\n",
    "              )\n",
    "            )"
   ]
  },
  {
   "cell_type": "code",
   "execution_count": 30,
   "id": "4e4142d2",
   "metadata": {
    "scrolled": true
   },
   "outputs": [
    {
     "data": {
      "text/html": [
       "<div>\n",
       "<style scoped>\n",
       "    .dataframe tbody tr th:only-of-type {\n",
       "        vertical-align: middle;\n",
       "    }\n",
       "\n",
       "    .dataframe tbody tr th {\n",
       "        vertical-align: top;\n",
       "    }\n",
       "\n",
       "    .dataframe thead th {\n",
       "        text-align: right;\n",
       "    }\n",
       "</style>\n",
       "<table border=\"1\" class=\"dataframe\">\n",
       "  <thead>\n",
       "    <tr style=\"text-align: right;\">\n",
       "      <th></th>\n",
       "      <th>x</th>\n",
       "      <th>y</th>\n",
       "      <th>z</th>\n",
       "    </tr>\n",
       "  </thead>\n",
       "  <tbody>\n",
       "    <tr>\n",
       "      <th>522</th>\n",
       "      <td>NaN</td>\n",
       "      <td>NaN</td>\n",
       "      <td>NaN</td>\n",
       "    </tr>\n",
       "    <tr>\n",
       "      <th>1065</th>\n",
       "      <td>NaN</td>\n",
       "      <td>NaN</td>\n",
       "      <td>NaN</td>\n",
       "    </tr>\n",
       "    <tr>\n",
       "      <th>1608</th>\n",
       "      <td>NaN</td>\n",
       "      <td>NaN</td>\n",
       "      <td>NaN</td>\n",
       "    </tr>\n",
       "    <tr>\n",
       "      <th>2151</th>\n",
       "      <td>26.47</td>\n",
       "      <td>64.99</td>\n",
       "      <td>0.0</td>\n",
       "    </tr>\n",
       "    <tr>\n",
       "      <th>2694</th>\n",
       "      <td>28.61</td>\n",
       "      <td>62.25</td>\n",
       "      <td>0.0</td>\n",
       "    </tr>\n",
       "    <tr>\n",
       "      <th>3237</th>\n",
       "      <td>28.48</td>\n",
       "      <td>62.06</td>\n",
       "      <td>0.0</td>\n",
       "    </tr>\n",
       "  </tbody>\n",
       "</table>\n",
       "</div>"
      ],
      "text/plain": [
       "          x      y    z\n",
       "522     NaN    NaN  NaN\n",
       "1065    NaN    NaN  NaN\n",
       "1608    NaN    NaN  NaN\n",
       "2151  26.47  64.99  0.0\n",
       "2694  28.61  62.25  0.0\n",
       "3237  28.48  62.06  0.0"
      ]
     },
     "execution_count": 30,
     "metadata": {},
     "output_type": "execute_result"
    }
   ],
   "source": [
    "mask = ((landmarks.type == 'right_hand') & \n",
    "        (landmarks.landmark_index == 0) #&\n",
    "        #(landmarks.frame.between(29, 31))\n",
    "       )\n",
    "landmarks.loc[mask, COORD_COLS].multiply(100).round(2)"
   ]
  },
  {
   "cell_type": "code",
   "execution_count": null,
   "id": "58f4e2b6",
   "metadata": {},
   "outputs": [],
   "source": []
  }
 ],
 "metadata": {
  "kernelspec": {
   "display_name": "fastai",
   "language": "python",
   "name": "fastai"
  },
  "language_info": {
   "codemirror_mode": {
    "name": "ipython",
    "version": 3
   },
   "file_extension": ".py",
   "mimetype": "text/x-python",
   "name": "python",
   "nbconvert_exporter": "python",
   "pygments_lexer": "ipython3",
   "version": "3.9.13"
  },
  "toc": {
   "base_numbering": 1,
   "nav_menu": {},
   "number_sections": false,
   "sideBar": true,
   "skip_h1_title": false,
   "title_cell": "Table of Contents",
   "title_sidebar": "Contents",
   "toc_cell": false,
   "toc_position": {},
   "toc_section_display": true,
   "toc_window_display": true
  }
 },
 "nbformat": 4,
 "nbformat_minor": 5
}
