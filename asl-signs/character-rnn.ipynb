{
 "cells": [
  {
   "cell_type": "code",
   "execution_count": 2,
   "id": "5e22b447",
   "metadata": {},
   "outputs": [],
   "source": [
    "from __future__ import unicode_literals, print_function, division\n",
    "import glob\n",
    "import os\n",
    "from pathlib import Path\n",
    "import unicodedata\n",
    "import string\n",
    "\n",
    "def findFiles(path): return list(path.glob('*.txt'))"
   ]
  },
  {
   "cell_type": "markdown",
   "id": "8b19db25",
   "metadata": {},
   "source": [
    "# Preparing the Data"
   ]
  },
  {
   "cell_type": "code",
   "execution_count": 3,
   "id": "1470a832",
   "metadata": {},
   "outputs": [
    {
     "data": {
      "text/plain": [
       "[PosixPath('/home/brendan/.data/asl-signs/names_classifier/names/French.txt'),\n",
       " PosixPath('/home/brendan/.data/asl-signs/names_classifier/names/Scottish.txt'),\n",
       " PosixPath('/home/brendan/.data/asl-signs/names_classifier/names/Dutch.txt'),\n",
       " PosixPath('/home/brendan/.data/asl-signs/names_classifier/names/Greek.txt'),\n",
       " PosixPath('/home/brendan/.data/asl-signs/names_classifier/names/Chinese.txt'),\n",
       " PosixPath('/home/brendan/.data/asl-signs/names_classifier/names/Czech.txt'),\n",
       " PosixPath('/home/brendan/.data/asl-signs/names_classifier/names/Russian.txt'),\n",
       " PosixPath('/home/brendan/.data/asl-signs/names_classifier/names/Polish.txt'),\n",
       " PosixPath('/home/brendan/.data/asl-signs/names_classifier/names/Arabic.txt'),\n",
       " PosixPath('/home/brendan/.data/asl-signs/names_classifier/names/German.txt'),\n",
       " PosixPath('/home/brendan/.data/asl-signs/names_classifier/names/Portuguese.txt'),\n",
       " PosixPath('/home/brendan/.data/asl-signs/names_classifier/names/Vietnamese.txt'),\n",
       " PosixPath('/home/brendan/.data/asl-signs/names_classifier/names/English.txt'),\n",
       " PosixPath('/home/brendan/.data/asl-signs/names_classifier/names/Spanish.txt'),\n",
       " PosixPath('/home/brendan/.data/asl-signs/names_classifier/names/Japanese.txt'),\n",
       " PosixPath('/home/brendan/.data/asl-signs/names_classifier/names/Irish.txt'),\n",
       " PosixPath('/home/brendan/.data/asl-signs/names_classifier/names/Italian.txt'),\n",
       " PosixPath('/home/brendan/.data/asl-signs/names_classifier/names/Korean.txt')]"
      ]
     },
     "execution_count": 3,
     "metadata": {},
     "output_type": "execute_result"
    }
   ],
   "source": [
    "def findFiles(path): return list(path.glob('*.txt'))\n",
    "\n",
    "path = Path.home() / '.data' / 'asl-signs' / 'names_classifier' / 'names'\n",
    "\n",
    "findFiles(path)"
   ]
  },
  {
   "cell_type": "code",
   "execution_count": 4,
   "id": "d86ce2b5",
   "metadata": {},
   "outputs": [
    {
     "data": {
      "text/plain": [
       "\"abcdefghijklmnopqrstuvwxyzABCDEFGHIJKLMNOPQRSTUVWXYZ .,;'\""
      ]
     },
     "execution_count": 4,
     "metadata": {},
     "output_type": "execute_result"
    }
   ],
   "source": [
    "all_letters = string.ascii_letters + \" .,;'\"\n",
    "n_letters = len(all_letters)\n",
    "\n",
    "all_letters"
   ]
  },
  {
   "cell_type": "code",
   "execution_count": 5,
   "id": "cb76ca24",
   "metadata": {},
   "outputs": [
    {
     "name": "stdout",
     "output_type": "stream",
     "text": [
      "Slusarski\n"
     ]
    }
   ],
   "source": [
    "# Turn a Unicode string to plain ASCII, thanks to https://stackoverflow.com/a/518232/2809427\n",
    "def unicodeToAscii(s):\n",
    "    return ''.join(\n",
    "        c for c in unicodedata.normalize('NFD', s)\n",
    "        if unicodedata.category(c) != 'Mn'\n",
    "        and c in all_letters\n",
    "    )\n",
    "\n",
    "print(unicodeToAscii('Ślusàrski'))"
   ]
  },
  {
   "cell_type": "code",
   "execution_count": 6,
   "id": "ff9502ac",
   "metadata": {},
   "outputs": [],
   "source": [
    "category_lines = {}\n",
    "all_categories = []\n",
    "\n",
    "\n",
    "# Read a file and split into lines\n",
    "def readLines(filename):\n",
    "    lines = open(filename, encoding='utf-8').read().strip().split('\\n')\n",
    "    return [unicodeToAscii(line) for line in lines]\n",
    "\n",
    "for filename in findFiles(path):\n",
    "    category = os.path.splitext(os.path.basename(filename))[0]\n",
    "    all_categories.append(category)\n",
    "    lines = readLines(filename)\n",
    "    category_lines[category] = lines\n",
    "\n",
    "n_categories = len(all_categories)"
   ]
  },
  {
   "cell_type": "markdown",
   "id": "4d40655e",
   "metadata": {},
   "source": [
    "# Turning Names Into Tensors"
   ]
  },
  {
   "cell_type": "code",
   "execution_count": 7,
   "id": "4e93cad3",
   "metadata": {},
   "outputs": [
    {
     "name": "stdout",
     "output_type": "stream",
     "text": [
      "tensor([[0., 0., 0., 0., 0., 0., 0., 0., 0., 0., 0., 0., 0., 0., 0., 0., 0., 0.,\n",
      "         0., 0., 0., 0., 0., 0., 0., 0., 0., 0., 0., 0., 0., 0., 0., 0., 0., 1.,\n",
      "         0., 0., 0., 0., 0., 0., 0., 0., 0., 0., 0., 0., 0., 0., 0., 0., 0., 0.,\n",
      "         0., 0., 0.]])\n",
      "torch.Size([5, 1, 57])\n"
     ]
    }
   ],
   "source": [
    "import torch\n",
    "\n",
    "# Find letter index from all_letters, e.g. \"a\" = 0\n",
    "def letterToIndex(letter):\n",
    "    return all_letters.find(letter)\n",
    "\n",
    "# Just for demonstration, turn a letter into a <1 x n_letters> Tensor\n",
    "def letterToTensor(letter):\n",
    "    tensor = torch.zeros(1, n_letters)\n",
    "    tensor[0][letterToIndex(letter)] = 1\n",
    "    return tensor\n",
    "\n",
    "# Turn a line into a <line_length x 1 x n_letters>,\n",
    "# or an array of one-hot letter vectors\n",
    "def lineToTensor(line):\n",
    "    tensor = torch.zeros(len(line), 1, n_letters)\n",
    "    for li, letter in enumerate(line):\n",
    "        tensor[li][0][letterToIndex(letter)] = 1\n",
    "    return tensor\n",
    "\n",
    "print(letterToTensor('J'))\n",
    "\n",
    "print(lineToTensor('Jones').size())"
   ]
  },
  {
   "cell_type": "markdown",
   "id": "8e58c9ed",
   "metadata": {},
   "source": [
    "# Creating the Network"
   ]
  },
  {
   "cell_type": "code",
   "execution_count": 8,
   "id": "f88a96eb",
   "metadata": {},
   "outputs": [],
   "source": [
    "import torch.nn as nn\n",
    "\n",
    "class RNN(nn.Module):\n",
    "    def __init__(self, input_size, hidden_size, output_size):\n",
    "        super(RNN, self).__init__()\n",
    "\n",
    "        self.hidden_size = hidden_size\n",
    "\n",
    "        self.i2h = nn.Linear(input_size + hidden_size, hidden_size)\n",
    "        self.i2o = nn.Linear(input_size + hidden_size, output_size)\n",
    "        self.softmax = nn.LogSoftmax(dim=1)\n",
    "\n",
    "    def forward(self, input_, hidden):\n",
    "        combined = torch.cat((input_, hidden), 1)\n",
    "        hidden = self.i2h(combined)\n",
    "        output = self.i2o(combined)\n",
    "        output = self.softmax(output)\n",
    "        return output, hidden\n",
    "\n",
    "    def initHidden(self):\n",
    "        return torch.zeros(1, self.hidden_size)\n",
    "\n",
    "n_hidden = 128\n",
    "rnn = RNN(n_letters, n_hidden, n_categories)"
   ]
  },
  {
   "cell_type": "code",
   "execution_count": 9,
   "id": "b2ab49d2",
   "metadata": {},
   "outputs": [
    {
     "data": {
      "text/plain": [
       "(tensor([[-2.8224, -2.8428, -2.9050, -2.9341, -2.8918, -2.8718, -3.0146, -2.8802,\n",
       "          -2.8569, -2.9838, -2.9184, -2.8974, -2.9396, -2.8908, -2.8046, -2.9742,\n",
       "          -2.8232, -2.8067]], grad_fn=<LogSoftmaxBackward0>),\n",
       " tensor([[ 0.0404,  0.0767,  0.1342,  0.0037,  0.0900, -0.0615,  0.0242, -0.0812,\n",
       "           0.0588,  0.0285, -0.0244, -0.1035, -0.0345, -0.0448, -0.0199,  0.0206,\n",
       "          -0.0427,  0.0932,  0.0666, -0.0463, -0.1028, -0.0106, -0.0242, -0.0103,\n",
       "          -0.0188,  0.1210, -0.0061, -0.0232, -0.0864,  0.0646, -0.0337,  0.0472,\n",
       "          -0.0266,  0.0217,  0.1061,  0.0068, -0.0367,  0.0255,  0.0085,  0.0435,\n",
       "          -0.0323, -0.1197, -0.0381,  0.0563,  0.0569, -0.1183, -0.0103,  0.0786,\n",
       "          -0.0074,  0.0465,  0.0226,  0.0046,  0.0815, -0.0032,  0.0070, -0.0277,\n",
       "          -0.0288,  0.0680,  0.0367,  0.0580, -0.1171, -0.0800, -0.0236,  0.1193,\n",
       "          -0.0155,  0.1168,  0.0641,  0.0601,  0.0678,  0.0248,  0.0270,  0.1265,\n",
       "          -0.0137,  0.0230, -0.0265, -0.0690,  0.0646,  0.0481, -0.0419,  0.0585,\n",
       "           0.0143, -0.0252,  0.0632,  0.0669, -0.0910, -0.0919, -0.1397, -0.0785,\n",
       "          -0.0647, -0.0477,  0.0225, -0.0185, -0.0366,  0.1398, -0.0376, -0.0074,\n",
       "          -0.0342, -0.0239, -0.0145, -0.0581, -0.0601,  0.0339, -0.0139,  0.0230,\n",
       "           0.1366, -0.0217,  0.0281,  0.0218,  0.0362, -0.0960, -0.0434, -0.0735,\n",
       "          -0.0783,  0.1348, -0.0180,  0.0057, -0.0789, -0.0688,  0.0770, -0.0421,\n",
       "          -0.0254, -0.0076, -0.0222, -0.0099,  0.1013,  0.0391,  0.0699, -0.0243]],\n",
       "        grad_fn=<AddmmBackward0>))"
      ]
     },
     "execution_count": 9,
     "metadata": {},
     "output_type": "execute_result"
    }
   ],
   "source": [
    "input_ = letterToTensor('A')\n",
    "hidden = torch.zeros(1, n_hidden)\n",
    "\n",
    "output, next_hidden = rnn(input_, hidden)\n",
    "output, next_hidden"
   ]
  },
  {
   "cell_type": "markdown",
   "id": "6e15f9bb",
   "metadata": {},
   "source": [
    "# Training"
   ]
  },
  {
   "cell_type": "markdown",
   "id": "5b05ddf7",
   "metadata": {},
   "source": [
    "## Preparing the Network"
   ]
  },
  {
   "cell_type": "code",
   "execution_count": 10,
   "id": "d7524a34",
   "metadata": {},
   "outputs": [
    {
     "name": "stdout",
     "output_type": "stream",
     "text": [
      "('Japanese', 14)\n"
     ]
    }
   ],
   "source": [
    "def categoryFromOutput(output):\n",
    "    top_n, top_i = output.topk(1)\n",
    "    category_i = top_i[0].item()\n",
    "    return all_categories[category_i], category_i\n",
    "\n",
    "print(categoryFromOutput(output))"
   ]
  },
  {
   "cell_type": "code",
   "execution_count": 11,
   "id": "df39e88d",
   "metadata": {},
   "outputs": [
    {
     "name": "stdout",
     "output_type": "stream",
     "text": [
      "category = Chinese / line = Tan\n",
      "category = Arabic / line = Gerges\n",
      "category = Spanish / line = Antunez\n",
      "category = French / line = Rousseau\n",
      "category = French / line = Renaud\n",
      "category = Vietnamese / line = Vuu\n",
      "category = Vietnamese / line = Chung\n",
      "category = French / line = Masson\n",
      "category = English / line = Fairweather\n",
      "category = English / line = Zaoui\n"
     ]
    }
   ],
   "source": [
    "import random\n",
    "\n",
    "def randomChoice(l):\n",
    "    return l[random.randint(0, len(l) - 1)]\n",
    "\n",
    "def randomTrainingExample():\n",
    "    category = randomChoice(all_categories)\n",
    "    line = randomChoice(category_lines[category])\n",
    "    category_tensor = torch.tensor([all_categories.index(category)], dtype=torch.long)\n",
    "    line_tensor = lineToTensor(line)\n",
    "    return category, line, category_tensor, line_tensor\n",
    "\n",
    "for i in range(10):\n",
    "    category, line, category_tensor, line_tensor = randomTrainingExample()\n",
    "    print('category =', category, '/ line =', line)"
   ]
  },
  {
   "cell_type": "markdown",
   "id": "988a7a47",
   "metadata": {},
   "source": [
    "## Training the Network"
   ]
  },
  {
   "cell_type": "code",
   "execution_count": 46,
   "id": "cddc525c",
   "metadata": {},
   "outputs": [],
   "source": [
    "def train(category_tensor, line_tensor):\n",
    "    hidden = rnn.initHidden()\n",
    "\n",
    "    rnn.zero_grad()\n",
    "\n",
    "    for i in range(line_tensor.size()[0]):\n",
    "        output, hidden = rnn(line_tensor[i], hidden)\n",
    "\n",
    "    loss = criterion(output, category_tensor)\n",
    "    loss.backward()\n",
    "\n",
    "    # Add parameters' gradients to their values, multiplied by learning rate\n",
    "    for p in rnn.parameters():\n",
    "        p.data.add_(p.grad.data, alpha=-learning_rate)\n",
    "\n",
    "    return output, loss.item()"
   ]
  },
  {
   "cell_type": "code",
   "execution_count": 47,
   "id": "76644de4",
   "metadata": {},
   "outputs": [],
   "source": [
    "criterion = nn.NLLLoss()\n",
    "learning_rate = 0.005 # If you set this too high, it might explode. If too low, it might not learn"
   ]
  },
  {
   "cell_type": "code",
   "execution_count": 48,
   "id": "c966746c",
   "metadata": {},
   "outputs": [
    {
     "name": "stdout",
     "output_type": "stream",
     "text": [
      "5000 5% (0m 2s) 2.4918 Williamson / Greek ✗ (Scottish)\n",
      "10000 10% (0m 4s) 1.8226 Aiolfi / Italian ✓\n",
      "15000 15% (0m 6s) 2.4580 Abreu / Dutch ✗ (Portuguese)\n",
      "20000 20% (0m 8s) 1.0947 Kang / Chinese ✓\n",
      "25000 25% (0m 10s) 2.4669 Wildgrube / Scottish ✗ (German)\n",
      "30000 30% (0m 12s) 1.7146 Gillard / English ✓\n",
      "35000 35% (0m 15s) 2.3887 Habich / Japanese ✗ (German)\n",
      "40000 40% (0m 17s) 2.5029 Leroy / Scottish ✗ (French)\n",
      "45000 45% (0m 19s) 0.1419 Dubanowski / Polish ✓\n",
      "50000 50% (0m 21s) 0.7667 Specht / German ✓\n",
      "55000 55% (0m 23s) 0.1513 Bahar / Arabic ✓\n",
      "60000 60% (0m 25s) 1.2471 Lang / Chinese ✓\n",
      "65000 65% (0m 27s) 0.1252 Ikoma / Japanese ✓\n",
      "70000 70% (0m 29s) 1.3417 Aleppo / Portuguese ✗ (Italian)\n",
      "75000 75% (0m 32s) 4.1904 Marquardt / Irish ✗ (German)\n",
      "80000 80% (0m 34s) 2.2737 Koury / Dutch ✗ (Arabic)\n",
      "85000 85% (0m 36s) 1.5134 Thurston / Scottish ✗ (English)\n",
      "90000 90% (0m 38s) 0.3722 La / Vietnamese ✓\n",
      "95000 95% (0m 40s) 2.5307 Morcos / Portuguese ✗ (Arabic)\n",
      "100000 100% (0m 43s) 2.8982 Sanna / Spanish ✗ (Dutch)\n"
     ]
    }
   ],
   "source": [
    "import time\n",
    "import math\n",
    "\n",
    "n_iters = 100000\n",
    "print_every = 5000\n",
    "plot_every = 1000\n",
    "\n",
    "\n",
    "\n",
    "# Keep track of losses for plotting\n",
    "current_loss = 0\n",
    "all_losses = []\n",
    "\n",
    "def timeSince(since):\n",
    "    now = time.time()\n",
    "    s = now - since\n",
    "    m = math.floor(s / 60)\n",
    "    s -= m * 60\n",
    "    return '%dm %ds' % (m, s)\n",
    "\n",
    "start = time.time()\n",
    "\n",
    "for iter in range(1, n_iters + 1):\n",
    "    category, line, category_tensor, line_tensor = randomTrainingExample()\n",
    "    output, loss = train(category_tensor, line_tensor)\n",
    "    current_loss += loss\n",
    "\n",
    "    # Print iter number, loss, name and guess\n",
    "    if iter % print_every == 0:\n",
    "        guess, guess_i = categoryFromOutput(output)\n",
    "        correct = '✓' if guess == category else '✗ (%s)' % category\n",
    "        print('%d %d%% (%s) %.4f %s / %s %s' % (iter, iter / n_iters * 100, timeSince(start), loss, line, guess, correct))\n",
    "\n",
    "    # Add current loss avg to list of losses\n",
    "    if iter % plot_every == 0:\n",
    "        all_losses.append(current_loss / plot_every)\n",
    "        current_loss = 0"
   ]
  },
  {
   "cell_type": "markdown",
   "id": "fcea523f",
   "metadata": {},
   "source": [
    "# Plotting the Results"
   ]
  },
  {
   "cell_type": "code",
   "execution_count": 49,
   "id": "befb4075",
   "metadata": {},
   "outputs": [
    {
     "data": {
      "text/plain": [
       "[<matplotlib.lines.Line2D at 0x7f293aae8610>]"
      ]
     },
     "execution_count": 49,
     "metadata": {},
     "output_type": "execute_result"
    },
    {
     "data": {
      "image/png": "[encoded data removed]",
      "text/plain": [
       "<Figure size 640x480 with 1 Axes>"
      ]
     },
     "metadata": {},
     "output_type": "display_data"
    }
   ],
   "source": [
    "import matplotlib.pyplot as plt\n",
    "import matplotlib.ticker as ticker\n",
    "\n",
    "plt.figure()\n",
    "plt.plot(all_losses)"
   ]
  },
  {
   "cell_type": "markdown",
   "id": "be49bd1f",
   "metadata": {},
   "source": [
    "# Evaluating the Results"
   ]
  },
  {
   "cell_type": "code",
   "execution_count": 50,
   "id": "a9880782",
   "metadata": {},
   "outputs": [
    {
     "name": "stderr",
     "output_type": "stream",
     "text": [
      "/tmp/ipykernel_2589/3585656379.py:33: UserWarning: FixedFormatter should only be used together with FixedLocator\n",
      "  ax.set_xticklabels([''] + all_categories, rotation=90)\n",
      "/tmp/ipykernel_2589/3585656379.py:34: UserWarning: FixedFormatter should only be used together with FixedLocator\n",
      "  ax.set_yticklabels([''] + all_categories)\n"
     ]
    },
    {
     "data": {
      "image/png": "[encoded data removed]",
      "text/plain": [
       "<Figure size 640x480 with 2 Axes>"
      ]
     },
     "metadata": {},
     "output_type": "display_data"
    }
   ],
   "source": [
    "# Keep track of correct guesses in a confusion matrix\n",
    "confusion = torch.zeros(n_categories, n_categories)\n",
    "n_confusion = 10000\n",
    "\n",
    "# Just return an output given a line\n",
    "def evaluate(line_tensor):\n",
    "    hidden = rnn.initHidden()\n",
    "\n",
    "    for i in range(line_tensor.size()[0]):\n",
    "        output, hidden = rnn(line_tensor[i], hidden)\n",
    "\n",
    "    return output\n",
    "\n",
    "# Go through a bunch of examples and record which are correctly guessed\n",
    "for i in range(n_confusion):\n",
    "    category, line, category_tensor, line_tensor = randomTrainingExample()\n",
    "    output = evaluate(line_tensor)\n",
    "    guess, guess_i = categoryFromOutput(output)\n",
    "    category_i = all_categories.index(category)\n",
    "    confusion[category_i][guess_i] += 1\n",
    "\n",
    "# Normalize by dividing every row by its sum\n",
    "for i in range(n_categories):\n",
    "    confusion[i] = confusion[i] / confusion[i].sum()\n",
    "\n",
    "# Set up plot\n",
    "fig = plt.figure()\n",
    "ax = fig.add_subplot(111)\n",
    "cax = ax.matshow(confusion.numpy())\n",
    "fig.colorbar(cax)\n",
    "\n",
    "# Set up axes\n",
    "ax.set_xticklabels([''] + all_categories, rotation=90)\n",
    "ax.set_yticklabels([''] + all_categories)\n",
    "\n",
    "# Force label at every tick\n",
    "ax.xaxis.set_major_locator(ticker.MultipleLocator(1))\n",
    "ax.yaxis.set_major_locator(ticker.MultipleLocator(1))\n",
    "\n",
    "# sphinx_gallery_thumbnail_number = 2\n",
    "plt.show()"
   ]
  },
  {
   "cell_type": "code",
   "execution_count": null,
   "id": "84379f54",
   "metadata": {},
   "outputs": [],
   "source": []
  }
 ],
 "metadata": {
  "kernelspec": {
   "display_name": "fastai",
   "language": "python",
   "name": "fastai"
  },
  "language_info": {
   "codemirror_mode": {
    "name": "ipython",
    "version": 3
   },
   "file_extension": ".py",
   "mimetype": "text/x-python",
   "name": "python",
   "nbconvert_exporter": "python",
   "pygments_lexer": "ipython3",
   "version": "3.9.13"
  },
  "toc": {
   "base_numbering": 1,
   "nav_menu": {},
   "number_sections": false,
   "sideBar": true,
   "skip_h1_title": false,
   "title_cell": "Table of Contents",
   "title_sidebar": "Contents",
   "toc_cell": false,
   "toc_position": {},
   "toc_section_display": true,
   "toc_window_display": true
  }
 },
 "nbformat": 4,
 "nbformat_minor": 5
}
