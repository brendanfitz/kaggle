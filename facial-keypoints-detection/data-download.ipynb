{
 "cells": [
  {
   "cell_type": "code",
   "execution_count": 30,
   "id": "64201dd6",
   "metadata": {},
   "outputs": [],
   "source": [
    "from kaggle.api.kaggle_api_extended import KaggleApi\n",
    "from pathlib import Path\n",
    "import zipfile"
   ]
  },
  {
   "cell_type": "code",
   "execution_count": 3,
   "id": "e486df67",
   "metadata": {},
   "outputs": [],
   "source": [
    "api = KaggleApi()\n",
    "api.authenticate()"
   ]
  },
  {
   "cell_type": "code",
   "execution_count": 14,
   "id": "c0395c2f",
   "metadata": {},
   "outputs": [],
   "source": [
    "competition_name = 'facial-keypoints-detection'"
   ]
  },
  {
   "cell_type": "code",
   "execution_count": 44,
   "id": "527ba0f8",
   "metadata": {},
   "outputs": [],
   "source": [
    "path = Path.home() / '.kaggle'/ competition_name\n",
    "path.mkdir(exist_ok=True)"
   ]
  },
  {
   "cell_type": "code",
   "execution_count": 56,
   "id": "494fba5b",
   "metadata": {},
   "outputs": [],
   "source": [
    "api.competition_download_files(competition_name, path=path)"
   ]
  },
  {
   "cell_type": "code",
   "execution_count": 57,
   "id": "a78b9824",
   "metadata": {},
   "outputs": [
    {
     "data": {
      "text/plain": [
       "[WindowsPath('C:/Users/brendanfitz/.kaggle/facial-keypoints-detection/facial-keypoints-detection.zip')]"
      ]
     },
     "execution_count": 57,
     "metadata": {},
     "output_type": "execute_result"
    }
   ],
   "source": [
    "list(path.glob('*'))"
   ]
  },
  {
   "cell_type": "code",
   "execution_count": 58,
   "id": "91593b35",
   "metadata": {},
   "outputs": [],
   "source": [
    "def extract_and_delete(zip_path):\n",
    "    with zipfile.ZipFile(zip_path, 'r') as zip_ref:\n",
    "        zip_ref.extractall(path)\n",
    "    zip_path.unlink()"
   ]
  },
  {
   "cell_type": "code",
   "execution_count": 59,
   "id": "1618bc28",
   "metadata": {},
   "outputs": [],
   "source": [
    "zip_path = path / 'facial-keypoints-detection.zip'\n",
    "extract_and_delete(zip_path)"
   ]
  },
  {
   "cell_type": "code",
   "execution_count": 60,
   "id": "ae47b037",
   "metadata": {},
   "outputs": [
    {
     "data": {
      "text/plain": [
       "[WindowsPath('C:/Users/brendanfitz/.kaggle/facial-keypoints-detection/IdLookupTable.csv'),\n",
       " WindowsPath('C:/Users/brendanfitz/.kaggle/facial-keypoints-detection/SampleSubmission.csv'),\n",
       " WindowsPath('C:/Users/brendanfitz/.kaggle/facial-keypoints-detection/test.zip'),\n",
       " WindowsPath('C:/Users/brendanfitz/.kaggle/facial-keypoints-detection/training.zip')]"
      ]
     },
     "execution_count": 60,
     "metadata": {},
     "output_type": "execute_result"
    }
   ],
   "source": [
    "list(path.glob('*'))"
   ]
  },
  {
   "cell_type": "code",
   "execution_count": 61,
   "id": "f993275d",
   "metadata": {},
   "outputs": [],
   "source": [
    "for dataset_zip in ('training.zip', 'test.zip'):\n",
    "    zip_path = path / dataset_zip\n",
    "    extract_and_delete(zip_path)"
   ]
  },
  {
   "cell_type": "code",
   "execution_count": 62,
   "id": "c8703acf",
   "metadata": {},
   "outputs": [
    {
     "data": {
      "text/plain": [
       "[WindowsPath('C:/Users/brendanfitz/.kaggle/facial-keypoints-detection/IdLookupTable.csv'),\n",
       " WindowsPath('C:/Users/brendanfitz/.kaggle/facial-keypoints-detection/SampleSubmission.csv'),\n",
       " WindowsPath('C:/Users/brendanfitz/.kaggle/facial-keypoints-detection/test.csv'),\n",
       " WindowsPath('C:/Users/brendanfitz/.kaggle/facial-keypoints-detection/training.csv')]"
      ]
     },
     "execution_count": 62,
     "metadata": {},
     "output_type": "execute_result"
    }
   ],
   "source": [
    "list(path.glob('*'))"
   ]
  }
 ],
 "metadata": {
  "kernelspec": {
   "display_name": "tf-gpu",
   "language": "python",
   "name": "tf-gpu"
  },
  "language_info": {
   "codemirror_mode": {
    "name": "ipython",
    "version": 3
   },
   "file_extension": ".py",
   "mimetype": "text/x-python",
   "name": "python",
   "nbconvert_exporter": "python",
   "pygments_lexer": "ipython3",
   "version": "3.9.7"
  }
 },
 "nbformat": 4,
 "nbformat_minor": 5
}
