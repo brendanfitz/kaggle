{
 "cells": [
  {
   "cell_type": "code",
   "execution_count": null,
   "id": "8cf9f54f",
   "metadata": {},
   "outputs": [],
   "source": [
    "import pandas as pd\n",
    "from pathlib import Path\n",
    "import numpy as np\n",
    "import matplotlib.pyplot as plt\n",
    "from matplotlib.patches import Circle\n",
    "%matplotlib inline "
   ]
  },
  {
   "cell_type": "markdown",
   "id": "63be0da2",
   "metadata": {},
   "source": [
    "## Extraction"
   ]
  },
  {
   "cell_type": "code",
   "execution_count": null,
   "id": "fea73fc9",
   "metadata": {},
   "outputs": [],
   "source": [
    "competition_name = 'facial-keypoints-detection'"
   ]
  },
  {
   "cell_type": "code",
   "execution_count": null,
   "id": "22038cfe",
   "metadata": {},
   "outputs": [],
   "source": [
    "path = Path.home() / '.kaggle'/ competition_name"
   ]
  },
  {
   "cell_type": "code",
   "execution_count": null,
   "id": "b2118039",
   "metadata": {},
   "outputs": [],
   "source": [
    "list(path.glob('*'))"
   ]
  },
  {
   "cell_type": "code",
   "execution_count": null,
   "id": "65655cb3",
   "metadata": {},
   "outputs": [],
   "source": [
    "f = lambda x: np.array(x, dtype='i').reshape((96, 96))\n",
    "df = (pd.read_csv(path/'training.csv')\n",
    "      .assign(Image=lambda x: x.Image.str.split(' ').apply(f))\n",
    "     )\n",
    "\n",
    "df_test = (pd.read_csv(path/'test.csv')\n",
    "  .assign(Image=lambda x: x.Image.str.split(' ').apply(f))\n",
    " )"
   ]
  },
  {
   "cell_type": "markdown",
   "id": "57ca2927",
   "metadata": {},
   "source": [
    "## EDA"
   ]
  },
  {
   "cell_type": "code",
   "execution_count": null,
   "id": "47496907",
   "metadata": {},
   "outputs": [],
   "source": [
    "gray_scale_kwargs = dict(cmap='gray', vmin=0, vmax=255)"
   ]
  },
  {
   "cell_type": "code",
   "execution_count": null,
   "id": "f4ae0589",
   "metadata": {},
   "outputs": [],
   "source": [
    "coord_cols = [col for col in df.columns.tolist() if col.endswith(('_x', '_y'))]\n",
    "coord_cols_prefixes = set(col.rpartition('_')[0] for col in coord_cols)\n",
    "len(coord_cols_prefixes), coord_cols_prefixes"
   ]
  },
  {
   "cell_type": "code",
   "execution_count": null,
   "id": "b32f9dfb",
   "metadata": {},
   "outputs": [],
   "source": [
    "sample =  df.sample().iloc[0]\n",
    "pixels = sample.Image\n",
    "\n",
    "fig,ax = plt.subplots(1)\n",
    "ax.imshow(pixels, **gray_scale_kwargs)\n",
    "\n",
    "for coords_prefix in coord_cols_prefixes:\n",
    "    coords = sample[coords_prefix + '_x'], sample[coords_prefix + '_y']\n",
    "    ax.scatter(*coords, c='r')\n",
    "\n",
    "ax.axes.xaxis.set_visible(False), ax.axes.yaxis.set_visible(False)\n",
    "\n",
    "plt.show()"
   ]
  },
  {
   "cell_type": "code",
   "execution_count": null,
   "id": "e1cc48bb",
   "metadata": {},
   "outputs": [],
   "source": [
    "pixels = np.zeros((96, 96)) + 255\n",
    "\n",
    "fig,ax = plt.subplots(1)\n",
    "ax.imshow(pixels, **gray_scale_kwargs)\n",
    "\n",
    "for coords_prefix in coord_cols_prefixes:\n",
    "    coords = df[coords_prefix + '_x'].mean(), sample[coords_prefix + '_y'].mean()\n",
    "    ax.scatter(*coords, c='r')\n",
    "\n",
    "ax.axes.xaxis.set_visible(False), ax.axes.yaxis.set_visible(False) \n",
    "\n",
    "plt.show()"
   ]
  },
  {
   "cell_type": "code",
   "execution_count": null,
   "id": "d4470c14",
   "metadata": {},
   "outputs": [],
   "source": [
    "df.describe()"
   ]
  },
  {
   "cell_type": "markdown",
   "id": "542b1eb7",
   "metadata": {},
   "source": [
    "## Transformation"
   ]
  },
  {
   "cell_type": "code",
   "execution_count": null,
   "id": "5fdece6e",
   "metadata": {},
   "outputs": [],
   "source": [
    "def transformer(data):\n",
    "    X = np.expand_dims(\n",
    "        np.asarray(data.loc[:, 'Image'].tolist()),\n",
    "        axis=-1\n",
    "    )\n",
    "    y = data.drop('Image', axis=1).values\n",
    "    return X, y"
   ]
  },
  {
   "cell_type": "code",
   "execution_count": null,
   "id": "7172f3a7",
   "metadata": {},
   "outputs": [],
   "source": [
    "df_no_na = df.dropna()\n",
    "X_train, y_train = transformer(df_no_na)\n",
    "X_test, y_test = transformer(df_test)"
   ]
  },
  {
   "cell_type": "code",
   "execution_count": null,
   "id": "b83534f4",
   "metadata": {},
   "outputs": [],
   "source": [
    "X_train.shape, y_train.shape"
   ]
  },
  {
   "cell_type": "code",
   "execution_count": null,
   "id": "9d4ce02f",
   "metadata": {},
   "outputs": [],
   "source": [
    "X_test.shape, y_test.shape"
   ]
  },
  {
   "cell_type": "markdown",
   "id": "6d2cfcd2",
   "metadata": {},
   "source": [
    "## Modeling"
   ]
  },
  {
   "cell_type": "code",
   "execution_count": null,
   "id": "fe3e9cc2",
   "metadata": {},
   "outputs": [],
   "source": [
    "from tensorflow.keras.applications import ResNet50\n",
    "from tensorflow.keras.layers import Conv2D, LeakyReLU, GlobalAveragePooling2D, Dropout, Dense\n",
    "from tensorflow.keras.models import Sequential"
   ]
  },
  {
   "cell_type": "code",
   "execution_count": null,
   "id": "8489746e",
   "metadata": {
    "scrolled": true
   },
   "outputs": [],
   "source": [
    "model = Sequential()\n",
    "\n",
    "resnet50 = ResNet50(input_shape=(96, 96, 3), include_top=False, weights='imagenet')\n",
    "resnet50.trainable = True\n",
    "\n",
    "model.add(Conv2D(3, (1, 1), padding='same', input_shape=(96, 96, 1)))\n",
    "model.add(LeakyReLU(alpha=0.1))\n",
    "model.add(resnet50)\n",
    "model.add(GlobalAveragePooling2D())\n",
    "model.add(Dropout(0.1))\n",
    "model.add(Dense(30))\n",
    "model.summary()"
   ]
  },
  {
   "cell_type": "code",
   "execution_count": null,
   "id": "31fe8288",
   "metadata": {},
   "outputs": [],
   "source": [
    "model.compile(optimizer='adam', loss='mse', metrics=['mae'])"
   ]
  },
  {
   "cell_type": "code",
   "execution_count": null,
   "id": "b178ea59",
   "metadata": {},
   "outputs": [],
   "source": [
    "history = model.fit(X_train, y_train, epochs=100, batch_size=64, validation_split=0.1)"
   ]
  },
  {
   "cell_type": "code",
   "execution_count": null,
   "id": "9a676d88",
   "metadata": {},
   "outputs": [],
   "source": [
    "with plt.style.context('ggplot'):\n",
    "    fig, axes = plt.subplots(2, 1, figsize=(20, 10))\n",
    "\n",
    "    df_history = pd.DataFrame(history.history)\n",
    "\n",
    "    ax = axes[0]\n",
    "    df_history.loc[:, ['loss', 'val_loss']].plot(ax=ax)\n",
    "    ax.set_title('Mean Squared Error (Loss)', fontsize=12)\n",
    "\n",
    "    ax = axes[1]\n",
    "    df_history.loc[:, ['mae', 'val_mae']].plot(ax=ax)\n",
    "    ax.set_title('Mean Absolute Error', fontsize=12)\n",
    "\n",
    "    fig.suptitle('Model Evaluation', fontsize=24)"
   ]
  },
  {
   "cell_type": "markdown",
   "id": "49f9fc80",
   "metadata": {},
   "source": [
    "## Prediction"
   ]
  },
  {
   "cell_type": "code",
   "execution_count": null,
   "id": "c1a86a64",
   "metadata": {},
   "outputs": [],
   "source": [
    "n = np.random.randint(0, len(X_train))\n",
    "X_sample, y_sample = X_train[n], y_train[n]\n",
    "yhat_sample = model.predict(X_train)[n]\n",
    "\n",
    "pixels = X_sample\n",
    "\n",
    "fig,ax = plt.subplots(1)\n",
    "ax.imshow(pixels, **gray_scale_kwargs)\n",
    "\n",
    "s= 50\n",
    "ax.scatter(y_sample[0::2], y_sample[1::2], marker='x', c='r', s=s)\n",
    "ax.scatter(yhat_sample[0::2], yhat_sample[1::2], marker='o', edgecolors='g', s=s, facecolors='none',)\n",
    "\n",
    "ax.axes.xaxis.set_visible(False), ax.axes.yaxis.set_visible(False)\n",
    "\n",
    "plt.show()"
   ]
  },
  {
   "cell_type": "markdown",
   "id": "dd161a9f",
   "metadata": {},
   "source": [
    "## Submission"
   ]
  },
  {
   "cell_type": "code",
   "execution_count": null,
   "id": "7670ba7c",
   "metadata": {},
   "outputs": [],
   "source": [
    "df_test.head()"
   ]
  },
  {
   "cell_type": "code",
   "execution_count": null,
   "id": "4c002b80",
   "metadata": {},
   "outputs": [],
   "source": [
    "(df_test.ImageId == df_test.index + 1).all()"
   ]
  },
  {
   "cell_type": "code",
   "execution_count": null,
   "id": "ff92a141",
   "metadata": {},
   "outputs": [],
   "source": [
    "yhat_test = model.predict(X_test)"
   ]
  },
  {
   "cell_type": "code",
   "execution_count": null,
   "id": "5595b216",
   "metadata": {},
   "outputs": [],
   "source": [
    "frames = [\n",
    "    df_test.loc[:, ['ImageId']],\n",
    "    pd.DataFrame(yhat_test, columns=df.columns.drop('Image'))\n",
    "]\n",
    "df_yhat_test = (pd.concat(frames, axis=1)\n",
    "                .melt(id_vars=('ImageId'), var_name='FeatureName', value_name='Location')\n",
    "               )\n",
    "df_yhat_test.head()"
   ]
  },
  {
   "cell_type": "code",
   "execution_count": null,
   "id": "b117f943",
   "metadata": {},
   "outputs": [],
   "source": [
    "submission_template = pd.read_csv(path/'IdLookupTable.csv')\n",
    "submission_template.head()"
   ]
  },
  {
   "cell_type": "code",
   "execution_count": null,
   "id": "1a0bfd4f",
   "metadata": {},
   "outputs": [],
   "source": [
    "submission = (submission_template.drop('Location', axis=1)\n",
    "              .merge(df_yhat_test, how='left', on=('ImageId', 'FeatureName'))\n",
    "             )\n",
    "assert not submission.Location.isna().any()\n",
    "assert submission_template.shape[0] == submission.shape[0]\n",
    "assert submission.shape[0] == 27124\n",
    "submission.head()"
   ]
  },
  {
   "cell_type": "code",
   "execution_count": null,
   "id": "5f9667de",
   "metadata": {},
   "outputs": [],
   "source": [
    "submission.loc[:, ['RowId', 'Location']].to_csv(path/'submission.csv', index=False)"
   ]
  }
 ],
 "metadata": {
  "kernelspec": {
   "display_name": "tf-gpu",
   "language": "python",
   "name": "tf-gpu"
  },
  "language_info": {
   "codemirror_mode": {
    "name": "ipython",
    "version": 3
   },
   "file_extension": ".py",
   "mimetype": "text/x-python",
   "name": "python",
   "nbconvert_exporter": "python",
   "pygments_lexer": "ipython3",
   "version": "3.9.7"
  }
 },
 "nbformat": 4,
 "nbformat_minor": 5
}
