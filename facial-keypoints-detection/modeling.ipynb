{
 "cells": [
  {
   "cell_type": "code",
   "execution_count": null,
   "id": "8cf9f54f",
   "metadata": {},
   "outputs": [],
   "source": [
    "import pandas as pd\n",
    "from pathlib import Path\n",
    "import numpy as np\n",
    "import matplotlib.pyplot as plt\n",
    "from matplotlib.patches import Circle\n",
    "%matplotlib inline "
   ]
  },
  {
   "cell_type": "code",
   "execution_count": null,
   "id": "fea73fc9",
   "metadata": {},
   "outputs": [],
   "source": [
    "competition_name = 'facial-keypoints-detection'"
   ]
  },
  {
   "cell_type": "code",
   "execution_count": null,
   "id": "22038cfe",
   "metadata": {},
   "outputs": [],
   "source": [
    "path = Path.home() / '.kaggle'/ competition_name"
   ]
  },
  {
   "cell_type": "code",
   "execution_count": null,
   "id": "b2118039",
   "metadata": {},
   "outputs": [],
   "source": [
    "list(path.glob('*'))"
   ]
  },
  {
   "cell_type": "code",
   "execution_count": null,
   "id": "65655cb3",
   "metadata": {},
   "outputs": [],
   "source": [
    "f = lambda x: np.array(x, dtype='i').reshape((96, 96))\n",
    "df = (pd.read_csv(path/'training.csv')\n",
    "      .assign(Image=lambda x: x.Image.str.split(' ').apply(f))\n",
    "     )"
   ]
  },
  {
   "cell_type": "code",
   "execution_count": null,
   "id": "b2de6dda",
   "metadata": {},
   "outputs": [],
   "source": [
    "gray_scale_kwargs = dict(cmap='gray', vmin=0, vmax=255)"
   ]
  },
  {
   "cell_type": "code",
   "execution_count": null,
   "id": "f4ae0589",
   "metadata": {},
   "outputs": [],
   "source": [
    "coord_cols = [col for col in df.columns.tolist() if col.endswith(('_x', '_y'))]\n",
    "coord_cols_prefixes = set(col.rpartition('_')[0] for col in coord_cols)\n",
    "len(coord_cols_prefixes), coord_cols_prefixes"
   ]
  },
  {
   "cell_type": "code",
   "execution_count": null,
   "id": "b32f9dfb",
   "metadata": {},
   "outputs": [],
   "source": [
    "sample =  df.sample().iloc[0]\n",
    "pixels = sample.Image\n",
    "\n",
    "fig,ax = plt.subplots(1)\n",
    "ax.imshow(pixels, **gray_scale_kwargs)\n",
    "\n",
    "for coords_prefix in coord_cols_prefixes:\n",
    "    coords = sample[coords_prefix + '_x'], sample[coords_prefix + '_y']\n",
    "    ax.scatter(*coords, c='r')\n",
    "\n",
    "ax.axes.xaxis.set_visible(False), ax.axes.yaxis.set_visible(False)\n",
    "\n",
    "plt.show()"
   ]
  },
  {
   "cell_type": "code",
   "execution_count": null,
   "id": "635bdc22",
   "metadata": {},
   "outputs": [],
   "source": [
    "np.zeros((96, 96)) + 255"
   ]
  },
  {
   "cell_type": "code",
   "execution_count": null,
   "id": "e1cc48bb",
   "metadata": {},
   "outputs": [],
   "source": [
    "pixels = np.zeros((96, 96)) + 255\n",
    "\n",
    "fig,ax = plt.subplots(1)\n",
    "ax.imshow(pixels, **gray_scale_kwargs)\n",
    "\n",
    "for coords_prefix in coord_cols_prefixes:\n",
    "    coords = df[coords_prefix + '_x'].mean(), sample[coords_prefix + '_y'].mean()\n",
    "    ax.scatter(*coords, c='r')\n",
    "\n",
    "ax.axes.xaxis.set_visible(False), ax.axes.yaxis.set_visible(False) \n",
    "\n",
    "plt.show()"
   ]
  },
  {
   "cell_type": "code",
   "execution_count": null,
   "id": "d4470c14",
   "metadata": {},
   "outputs": [],
   "source": [
    "df.describe()"
   ]
  },
  {
   "cell_type": "code",
   "execution_count": null,
   "id": "7172f3a7",
   "metadata": {},
   "outputs": [],
   "source": [
    "df_no_na = df.dropna()\n",
    "X_train = np.expand_dims(\n",
    "    np.asarray(df_no_na.loc[:, 'Image'].tolist()),\n",
    "    axis=-1\n",
    ")\n",
    "y_train = df_no_na.drop('Image', axis=1).values"
   ]
  },
  {
   "cell_type": "code",
   "execution_count": null,
   "id": "b83534f4",
   "metadata": {},
   "outputs": [],
   "source": [
    "X_train.shape, y_train.shape"
   ]
  },
  {
   "cell_type": "code",
   "execution_count": null,
   "id": "072aa36a",
   "metadata": {},
   "outputs": [],
   "source": [
    "from tensorflow.keras.applications import MobileNet\n",
    "from tensorflow.keras.layers import Conv2D, LeakyReLU, GlobalAveragePooling2D, Dropout, Dense\n",
    "from tensorflow.keras.models import Sequential"
   ]
  },
  {
   "cell_type": "code",
   "execution_count": null,
   "id": "8489746e",
   "metadata": {},
   "outputs": [],
   "source": [
    "model = Sequential()\n",
    "\n",
    "pretrained_model = MobileNet(input_shape=(96, 96, 3), include_top=False, weights='imagenet')\n",
    "pretrained_model.trainable = True\n",
    "\n",
    "model.add(Conv2D(3, (1, 1), padding='same', input_shape=(96, 96, 1)))\n",
    "model.add(LeakyReLU(alpha=0.1))\n",
    "model.add(pretrained_model)\n",
    "model.add(GlobalAveragePooling2D())\n",
    "model.add(Dropout(0.1))\n",
    "model.add(Dense(30))\n",
    "model.summary()"
   ]
  },
  {
   "cell_type": "code",
   "execution_count": null,
   "id": "31fe8288",
   "metadata": {},
   "outputs": [],
   "source": [
    "model.compile(optimizer='adam', loss='mean_squared_error', metrics=['accuracy'])"
   ]
  },
  {
   "cell_type": "code",
   "execution_count": null,
   "id": "b178ea59",
   "metadata": {},
   "outputs": [],
   "source": [
    "history = model.fit(X_train, y_train, epochs=100, batch_size=64, validation_split=0.1)"
   ]
  },
  {
   "cell_type": "code",
   "execution_count": null,
   "id": "9a676d88",
   "metadata": {},
   "outputs": [],
   "source": [
    "fig, ax = plt.subplots(2, 1, figsize=(20, 10))\n",
    "df_history = pd.DataFrame(history.history)\n",
    "df_history[['loss', 'val_loss']].plot(ax=ax[0])\n",
    "df_history[['accuracy', 'val_accuracy']].plot(ax=ax[1])\n",
    "ax[0].set_title('Model Loss', fontsize=12)\n",
    "ax[1].set_title('Model Acc', fontsize=12)\n",
    "fig.suptitle('Model Metrics', fontsize=18);"
   ]
  },
  {
   "cell_type": "code",
   "execution_count": null,
   "id": "a2a5c947",
   "metadata": {},
   "outputs": [],
   "source": [
    "n = 1005\n",
    "X_sample, y_sample = X_train[n], y_train[n]\n",
    "yhat_sample = model.predict(X_train)[n]"
   ]
  },
  {
   "cell_type": "code",
   "execution_count": null,
   "id": "c1a86a64",
   "metadata": {},
   "outputs": [],
   "source": [
    "pixels = X_sample\n",
    "\n",
    "fig,ax = plt.subplots(1)\n",
    "ax.imshow(pixels, **gray_scale_kwargs)\n",
    "\n",
    "s= 50\n",
    "ax.scatter(y_sample[0::2], y_sample[1::2], marker='x', c='r', s=s)\n",
    "ax.scatter(yhat_sample[0::2], yhat_sample[1::2], marker='o', c='g', s=s, alpha=0.7)\n",
    "\n",
    "ax.axes.xaxis.set_visible(False), ax.axes.yaxis.set_visible(False)\n",
    "\n",
    "plt.show"
   ]
  }
 ],
 "metadata": {
  "kernelspec": {
   "display_name": "tf-gpu",
   "language": "python",
   "name": "tf-gpu"
  },
  "language_info": {
   "codemirror_mode": {
    "name": "ipython",
    "version": 3
   },
   "file_extension": ".py",
   "mimetype": "text/x-python",
   "name": "python",
   "nbconvert_exporter": "python",
   "pygments_lexer": "ipython3",
   "version": "3.9.7"
  }
 },
 "nbformat": 4,
 "nbformat_minor": 5
}
