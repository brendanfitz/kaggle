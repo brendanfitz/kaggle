{
 "cells": [
  {
   "cell_type": "code",
   "execution_count": 1,
   "id": "55790c6b",
   "metadata": {},
   "outputs": [
    {
     "data": {
      "text/html": [
       "\n",
       "<style>\n",
       ".section-heading { \n",
       "  background:#008080; \n",
       "  border:0; \n",
       "  color:white; \n",
       "  text-align:center; \n",
       "  height: 100px; \n",
       "  display: flex;  \n",
       "  justify-content: center;\n",
       "  align-items: center;\n",
       "}\n",
       "</style>\n"
      ],
      "text/plain": [
       "<IPython.core.display.HTML object>"
      ]
     },
     "execution_count": 1,
     "metadata": {},
     "output_type": "execute_result"
    }
   ],
   "source": [
    "from IPython.core.display import HTML\n",
    "\n",
    "styles = \"\"\"\n",
    "<style>\n",
    ".section-heading { \n",
    "  background:#008080; \n",
    "  border:0; \n",
    "  color:white; \n",
    "  text-align:center; \n",
    "  height: 100px; \n",
    "  display: flex;  \n",
    "  justify-content: center;\n",
    "  align-items: center;\n",
    "}\n",
    "</style>\n",
    "\"\"\"\n",
    "HTML(styles)"
   ]
  },
  {
   "cell_type": "markdown",
   "id": "dcb6c0c3",
   "metadata": {},
   "source": [
    "<a id=\"top\"></a>\n",
    "\n",
    "<h2 class=\"section-heading\">\n",
    "    <span>\n",
    "        Quick Navigation\n",
    "    </span>\n",
    "</h2>\n",
    "\n",
    "* [Overview](#overview)\n",
    "* [Data Visualization](#data_viz)\n",
    "    \n",
    "\n",
    "* [Competition Metric](#10)\n",
    "* [Sample Submission](#20)\n",
    "    \n",
    "\n",
    "* [Modeling](#modeling)"
   ]
  },
  {
   "cell_type": "markdown",
   "id": "b6c3080a",
   "metadata": {},
   "source": [
    "<a id=\"overview\"></a>\n",
    "\n",
    "<h2 class=\"section-heading\">\n",
    "    <span>\n",
    "      Overview\n",
    "    </span>\n",
    "</h2>\n",
    "\n",
    "* TODO"
   ]
  },
  {
   "cell_type": "code",
   "execution_count": null,
   "id": "980ed4e9",
   "metadata": {},
   "outputs": [],
   "source": [
    "import pathlib\n",
    "import pandas as pd\n",
    "from utils import competition_name, path\n",
    "import matplotlib.pyplot as plt\n",
    "import seaborn as sns\n",
    "import pydicom\n",
    "import numpy as np\n",
    "import random\n",
    "from tqdm.notebook import tqdm\n",
    "from sklearn.model_selection import train_test_split\n",
    "from sklearn.metrics import roc_auc_score, accuracy_score\n",
    "import cv2\n",
    "\n",
    "import tensorflow as tf\n",
    "from tensorflow.keras.utils import to_categorical\n",
    "from tensorflow.keras.layers import InputLayer, Conv2D, MaxPool2D, Conv2D, Dropout, Flatten, Dense\n",
    "from tensorflow.keras.layers.experimental.preprocessing import Rescaling\n",
    "from tensorflow.keras.metrics import AUC\n",
    "\n",
    "sns.set_theme(style=\"whitegrid\", palette=\"pastel\")\n",
    "%matplotlib inline"
   ]
  },
  {
   "cell_type": "code",
   "execution_count": null,
   "id": "d7887a84",
   "metadata": {},
   "outputs": [],
   "source": [
    "MRI_TYPES = (\"FLAIR\", \"T1w\", \"T1wCE\", \"T2w\")"
   ]
  },
  {
   "cell_type": "markdown",
   "id": "7d07bb56",
   "metadata": {},
   "source": [
    "<a id=\"extraction\"></a>\n",
    "\n",
    "<h2 class=\"section-heading\">\n",
    "    <span>\n",
    "      Extraction\n",
    "    </span>\n",
    "</h2>"
   ]
  },
  {
   "cell_type": "code",
   "execution_count": null,
   "id": "fb8b6e1e",
   "metadata": {},
   "outputs": [],
   "source": [
    "list(path.glob('*'))"
   ]
  },
  {
   "cell_type": "code",
   "execution_count": null,
   "id": "8f8cb29b",
   "metadata": {},
   "outputs": [],
   "source": [
    "train_path = (path / 'train')\n",
    "patient_paths = list(train_path.glob('*'))\n",
    "patient_paths[0:5], len(patient_paths)"
   ]
  },
  {
   "cell_type": "code",
   "execution_count": null,
   "id": "6fab5ca5",
   "metadata": {},
   "outputs": [],
   "source": [
    "training_labels = (pd.read_csv(path / 'train_labels.csv', dtype={'BraTS21ID': str})\n",
    "                   .set_index('BraTS21ID'))\n",
    "training_labels.head()"
   ]
  },
  {
   "cell_type": "code",
   "execution_count": null,
   "id": "3fdf4298",
   "metadata": {},
   "outputs": [],
   "source": [
    "IMAGE_SIZE = 256\n",
    "NUM_IMAGES = 64\n",
    "BATCH_SIZE= 4"
   ]
  },
  {
   "cell_type": "code",
   "execution_count": null,
   "id": "7589b50d",
   "metadata": {},
   "outputs": [],
   "source": [
    "class Loader:\n",
    "    ROT_CHOICES = [cv2.ROTATE_90_CLOCKWISE, cv2.ROTATE_90_COUNTERCLOCKWISE, cv2.ROTATE_180]\n",
    "    \n",
    "    def __init__(self, mri_type):\n",
    "        self.mri_type = mri_type\n",
    "    \n",
    "    def load_dicom_image(path, img_size=IMAGE_SIZE, voi_lut=True, rotation=None):\n",
    "        pixels = pydicom.read_file(path).pixel_array\n",
    "        \n",
    "        data  = apply_voi_lut(pixels, dicom) if voi_lut else pixels\n",
    "\n",
    "        if rotation is not None:\n",
    "            data = cv2.rotate(data, rotation)\n",
    "\n",
    "        data = cv2.resize(data, (img_size, img_size))\n",
    "        return data\n",
    "\n",
    "    def load_dicom_images_3d(self, scan_id, num_imgs=NUM_IMAGES, img_size=IMAGE_SIZE, split=\"train\", rotation=None):\n",
    "\n",
    "        filespath = path / split / scan_id / self.mri_type\n",
    "        files = sorted(filepaths.glob(\"*.dcm\"), key=lambda x: x.stem.split('-')[-1])\n",
    "\n",
    "        middle = len(files) // 2\n",
    "        num_imgs2 = num_imgs // 2\n",
    "        p1 = max(0, middle - num_imgs2)\n",
    "        p2 = min(len(files), middle + num_imgs2)\n",
    "\n",
    "        img3d = np.stack([load_dicom_image(f, rotate=rotation) for f in files[p1:p2]]).T\n",
    "\n",
    "        if img3d.shape[-1] < num_imgs:\n",
    "            n_zero = np.zeros((img_size, img_size, num_imgs - img3d.shape[-1]))\n",
    "            img3d = np.concatenate((img3d,  n_zero), axis = -1)\n",
    "\n",
    "        if np.min(img3d) < np.max(img3d):\n",
    "            img3d = img3d - np.min(img3d)\n",
    "            img3d = img3d / np.max(img3d)\n",
    "\n",
    "        return np.expand_dims(img3d,0)"
   ]
  },
  {
   "cell_type": "code",
   "execution_count": null,
   "id": "7655f7de",
   "metadata": {},
   "outputs": [],
   "source": [
    "brats21ids_train, brats21ids_test = train_test_split(brats21id_idx, test_size=0.2, random_state=11)"
   ]
  },
  {
   "cell_type": "code",
   "execution_count": null,
   "id": "f13b8d0b",
   "metadata": {},
   "outputs": [],
   "source": [
    "# random.seed(11)\n",
    "\n",
    "patient_path = random.choice(patient_paths)\n",
    "\n",
    "brats21id = patient_path.stem\n",
    "\n",
    "fig, axes = plt.subplots(1, 4, figsize=(16, 5))\n",
    "\n",
    "for ax, mri_type in zip(axes, MRI_TYPES):\n",
    "    mri_type_path = patient_path / mri_type\n",
    "    image_paths = sorted(mri_type_path.glob('*'), key=lambda x: x.stem.split('-')[-1])\n",
    "\n",
    "    image_path = image_paths[int(len(image_paths) / 2)]\n",
    "    data = load_dicom(image_path)\n",
    "\n",
    "    outcome = training_labels.loc[brats21id, 'MGMT_value']\n",
    "\n",
    "    ax.imshow(data, cmap=\"gray\")\n",
    "    ax.set_title(mri_type, fontsize=16)\n",
    "    ax.axis(\"off\")\n",
    "\n",
    "fig.suptitle(f'Patient #{brats21id}: {outcome}', size=24)\n",
    "plt.tight_layout()\n",
    "plt.show()"
   ]
  },
  {
   "cell_type": "markdown",
   "id": "1542b51c",
   "metadata": {},
   "source": [
    "<a id=\"data_viz\"></a>\n",
    "\n",
    "<h2 class=\"section-heading\">\n",
    "    <span>\n",
    "    Data Visualization\n",
    "    </span>\n",
    "</h2>"
   ]
  },
  {
   "cell_type": "code",
   "execution_count": null,
   "id": "cd76e0e5",
   "metadata": {},
   "outputs": [],
   "source": [
    "bar_labels = training_labels.MGMT_value.value_counts(normalize=True).sort_index().map('{:0.1%}'.format).to_list()\n",
    "training_size = training_labels.shape[0]\n",
    "\n",
    "ax = sns.countplot(data=training_labels, x='MGMT_value')\n",
    "sns.despine(right=False)\n",
    "\n",
    "ax.set_title('MGMT Distribution ({:0.0f} records)'.format(training_size), size=16)\n",
    "ax.set_xticklabels(('Not Present', 'Present'))\n",
    "ax.set(xlabel='', ylabel='')\n",
    "\n",
    "# add bar labels\n",
    "for p, label in zip(ax.patches, bar_labels):\n",
    "    ax.annotate(label, (p.get_x()+0.375, p.get_height()+0.15))\n",
    "    \n",
    "plt.show()"
   ]
  },
  {
   "cell_type": "markdown",
   "id": "232a7fa5",
   "metadata": {},
   "source": [
    "**NOTE**: There are some unexpected issues with the following three cases in the training dataset, participants can exclude the cases during training: [00109, 00123, 00709]. We have checked and confirmed that the testing dataset is free from such issues."
   ]
  },
  {
   "cell_type": "markdown",
   "id": "2a9f07ff",
   "metadata": {},
   "source": [
    "<a id=\"modeling\"></a>\n",
    "\n",
    "<h2 class=\"section-heading\">\n",
    "    <span>\n",
    "        Modeling\n",
    "    </span>\n",
    "</h2>"
   ]
  },
  {
   "cell_type": "code",
   "execution_count": null,
   "id": "51570592",
   "metadata": {},
   "outputs": [],
   "source": [
    "class Patient:\n",
    "    MRI_TYPES = (\"FLAIR\", \"T1w\", \"T1wCE\", \"T2w\")\n",
    "    TRAINING_LABELS = training_labels\n",
    "    PATH = path\n",
    "    TRAIN_PATH = PATH / 'train'\n",
    "    \n",
    "    def __init__(self, brats21id):\n",
    "        self.brats21id = str(brats21id).zfill(5)\n",
    "        self.outcome = training_labels.loc[self.brats21id, 'MGMT_value']\n",
    "        self.patient_train_path = self.TRAIN_PATH / self.brats21id\n",
    "        \n",
    "    def __repr__(self):\n",
    "        return f\"Patient(brats21id={self.brats21id})\"\n",
    "        \n",
    "    def load_mri_images(self, mri_type, subset='train'):\n",
    "        images = list()\n",
    "        \n",
    "        mri_type_path = self.patient_train_path / mri_type\n",
    "        image_paths = sorted(mri_type_path.glob('*'), key=lambda x: x.stem.split('-')[-1])\n",
    "        \n",
    "        for image_path in image_paths:\n",
    "            image = load_dicom(image_path)\n",
    "            images.append(image)\n",
    "        \n",
    "        return images"
   ]
  },
  {
   "cell_type": "code",
   "execution_count": null,
   "id": "024110f1",
   "metadata": {},
   "outputs": [],
   "source": [
    "p = Patient(675)\n",
    "assert str(p) == 'Patient(brats21id=00675)'\n",
    "assert p.outcome == 1\n",
    "images = p.load_mri_images('FLAIR')\n",
    "assert len(images) == 196"
   ]
  },
  {
   "cell_type": "code",
   "execution_count": null,
   "id": "6513d4c9",
   "metadata": {},
   "outputs": [],
   "source": [
    "brats21ids = training_labels.index.tolist()\n",
    "X, y, brats21id_idx = list(), list(), list()\n",
    "mri_type = 'FLAIR'\n",
    "\n",
    "for brats21id in tqdm(brats21ids):\n",
    "    p = Patient(brats21id)\n",
    "    images = p.load_mri_images(mri_type)\n",
    "    X += images\n",
    "    y += [p.outcome] * len(images)\n",
    "    brats21id_idx += [brats21id] * len(images)"
   ]
  },
  {
   "cell_type": "code",
   "execution_count": null,
   "id": "455afb40",
   "metadata": {},
   "outputs": [],
   "source": [
    "splits = train_test_split(X,  y, brats21id_idx, test_size=0.2, random_state=11)\n",
    "X_train, X_valid, y_train, y_valid, brats21id_idx_train, brats21id_idx_valid = splits\n",
    "\n",
    "X_train, X_valid = (tf.expand_dims(x, axis=-1) for x in [X_train, X_valid])\n",
    "\n",
    "y_train, y_valid = (to_categorical(y) for y in [y_train, y_valid])"
   ]
  },
  {
   "cell_type": "code",
   "execution_count": null,
   "id": "b292ce16",
   "metadata": {},
   "outputs": [],
   "source": [
    "X_train[0].shape"
   ]
  },
  {
   "cell_type": "code",
   "execution_count": null,
   "id": "e07295eb",
   "metadata": {},
   "outputs": [],
   "source": [
    "model = tf.keras.Sequential(layers=[\n",
    "    InputLayer(input_shape=(224, 224, 1)),\n",
    "    Rescaling(1.0/255, name='rescaling_1'),\n",
    "    Conv2D(64, kernel_size=(2, 2), activation='relu', name='conv2d_1'),\n",
    "    MaxPool2D((1, 1), name='max_pooling2d_1'),\n",
    "    Dropout(0.1, name='dropout_1'),\n",
    "    Flatten(name='flatten'),\n",
    "    Dense(32, activation='relu', name='dense_1'),\n",
    "    Dense(2, activation='softmax', name='dense_2')\n",
    "])"
   ]
  },
  {
   "cell_type": "code",
   "execution_count": null,
   "id": "485d7636",
   "metadata": {},
   "outputs": [],
   "source": [
    "model.summary()"
   ]
  },
  {
   "cell_type": "code",
   "execution_count": null,
   "id": "ef4e7fee",
   "metadata": {},
   "outputs": [],
   "source": [
    "model.compile(loss='categorical_crossentropy', optimizer='adam', metrics=['accuracy', AUC()])"
   ]
  },
  {
   "cell_type": "code",
   "execution_count": null,
   "id": "1cd5c3fa",
   "metadata": {},
   "outputs": [],
   "source": [
    "model.fit(X_train, y_train, validation_split=0.1, batch_size=32, epochs=10)"
   ]
  },
  {
   "cell_type": "code",
   "execution_count": null,
   "id": "54204a25",
   "metadata": {},
   "outputs": [],
   "source": [
    "yhat_valid_probs = model.predict(X_valid)\n",
    "yhat_valid = np.argmax(yhat_valid_probs, axis=1)"
   ]
  },
  {
   "cell_type": "code",
   "execution_count": null,
   "id": "15ea798d",
   "metadata": {},
   "outputs": [],
   "source": [
    "frames = [pd.Series(brats21id_idx_valid), pd.Series(yhat_valid)]\n",
    "results = (pd.concat(frames, axis=1, keys=['brats21id', 'MGMT_value_pred'])\n",
    "           .groupby('brats21id', as_index=False).mean()\n",
    "           .rename(columns={'MGMT_value': 'MGMT_value_preds'})\n",
    "           .merge(training_labels, left_on='brats21id', right_index=True, how='left')\n",
    "          )"
   ]
  },
  {
   "cell_type": "code",
   "execution_count": null,
   "id": "4cde7aa1",
   "metadata": {},
   "outputs": [],
   "source": [
    "results.columns"
   ]
  },
  {
   "cell_type": "code",
   "execution_count": null,
   "id": "2502c85b",
   "metadata": {},
   "outputs": [],
   "source": [
    "roc_auc_score(results.MGMT_value, results.MGMT_value_pred)"
   ]
  }
 ],
 "metadata": {
  "kernelspec": {
   "display_name": "tf-gpu",
   "language": "python",
   "name": "tf-gpu"
  },
  "language_info": {
   "codemirror_mode": {
    "name": "ipython",
    "version": 3
   },
   "file_extension": ".py",
   "mimetype": "text/x-python",
   "name": "python",
   "nbconvert_exporter": "python",
   "pygments_lexer": "ipython3",
   "version": "3.9.7"
  }
 },
 "nbformat": 4,
 "nbformat_minor": 5
}
