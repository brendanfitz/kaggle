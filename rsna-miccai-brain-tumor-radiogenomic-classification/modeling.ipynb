{
 "cells": [
  {
   "cell_type": "code",
   "execution_count": null,
   "id": "55790c6b",
   "metadata": {},
   "outputs": [],
   "source": [
    "from IPython.core.display import HTML\n",
    "\n",
    "styles = \"\"\"\n",
    "<style>\n",
    ".section-heading { \n",
    "  background:#008080; \n",
    "  border:0; \n",
    "  color:white; \n",
    "  text-align:center; \n",
    "  height: 100px; \n",
    "  display: flex;  \n",
    "  justify-content: center;\n",
    "  align-items: center;\n",
    "}\n",
    "</style>\n",
    "\"\"\"\n",
    "HTML(styles)"
   ]
  },
  {
   "cell_type": "markdown",
   "id": "dcb6c0c3",
   "metadata": {},
   "source": [
    "<a id=\"top\"></a>\n",
    "\n",
    "<h2 class=\"section-heading\">\n",
    "    <span>\n",
    "        Quick Navigation\n",
    "    </span>\n",
    "</h2>\n",
    "\n",
    "* [Overview](#overview)\n",
    "* [Data Visualization](#data_viz)\n",
    "    \n",
    "\n",
    "* [Competition Metric](#10)\n",
    "* [Sample Submission](#20)\n",
    "    \n",
    "\n",
    "* [Modeling](#modeling)"
   ]
  },
  {
   "cell_type": "markdown",
   "id": "b6c3080a",
   "metadata": {},
   "source": [
    "<a id=\"overview\"></a>\n",
    "\n",
    "<h2 class=\"section-heading\">\n",
    "    <span>\n",
    "      Overview\n",
    "    </span>\n",
    "</h2>\n",
    "\n",
    "* TODO"
   ]
  },
  {
   "cell_type": "code",
   "execution_count": null,
   "id": "980ed4e9",
   "metadata": {},
   "outputs": [],
   "source": [
    "import pathlib\n",
    "import pandas as pd\n",
    "from utils import competition_name, path\n",
    "import matplotlib.pyplot as plt\n",
    "import seaborn as sns\n",
    "import pydicom\n",
    "import numpy as np\n",
    "import random\n",
    "from tqdm.notebook import tqdm\n",
    "from sklearn.model_selection import train_test_split\n",
    "from sklearn.metrics import roc_auc_score, accuracy_score\n",
    "import cv2\n",
    "\n",
    "import tensorflow as tf\n",
    "from tensorflow.keras.utils import to_categorical\n",
    "from tensorflow.keras.layers import (InputLayer, Conv3D, MaxPool3D, Dropout, Flatten, \n",
    "                                     BatchNormalization, GlobalAveragePooling3D, Dense)\n",
    "from tensorflow.keras.layers.experimental.preprocessing import Rescaling\n",
    "from tensorflow.keras.metrics import AUC\n",
    "\n",
    "sns.set_theme(style=\"whitegrid\", palette=\"pastel\")\n",
    "%matplotlib inline"
   ]
  },
  {
   "cell_type": "markdown",
   "id": "7d07bb56",
   "metadata": {},
   "source": [
    "<a id=\"extraction\"></a>\n",
    "\n",
    "<h2 class=\"section-heading\">\n",
    "    <span>\n",
    "      Extraction\n",
    "    </span>\n",
    "</h2>"
   ]
  },
  {
   "cell_type": "code",
   "execution_count": null,
   "id": "fb8b6e1e",
   "metadata": {},
   "outputs": [],
   "source": [
    "list(path.glob('*'))"
   ]
  },
  {
   "cell_type": "code",
   "execution_count": null,
   "id": "8f8cb29b",
   "metadata": {},
   "outputs": [],
   "source": [
    "train_path = (path / 'train')\n",
    "patient_paths = list(train_path.glob('*'))\n",
    "patient_paths[0:5], len(patient_paths)"
   ]
  },
  {
   "cell_type": "code",
   "execution_count": null,
   "id": "6fab5ca5",
   "metadata": {},
   "outputs": [],
   "source": [
    "training_labels = (pd.read_csv(path / 'train_labels.csv', dtype={'BraTS21ID': str})\n",
    "                   .set_index('BraTS21ID'))\n",
    "training_labels.head()"
   ]
  },
  {
   "cell_type": "markdown",
   "id": "3e7ef228",
   "metadata": {},
   "source": [
    "**NOTE**: There are some unexpected issues with the following three cases in the training dataset, participants can exclude the cases during training: [00109, 00123, 00709]. We have checked and confirmed that the testing dataset is free from such issues."
   ]
  },
  {
   "cell_type": "code",
   "execution_count": null,
   "id": "93431ee8",
   "metadata": {},
   "outputs": [],
   "source": [
    "exclusions = ['00109', '00123', '00709']\n",
    "mask = training_labels.index.isin(exclusions)\n",
    "training_labels.loc[mask, ]"
   ]
  },
  {
   "cell_type": "code",
   "execution_count": null,
   "id": "1b6e0fab",
   "metadata": {},
   "outputs": [],
   "source": [
    "training_labels = training_labels.loc[~mask, ]\n",
    "training_labels.shape"
   ]
  },
  {
   "cell_type": "markdown",
   "id": "4d67c4a8",
   "metadata": {},
   "source": [
    "Let's split our training and test set first using just the indexes."
   ]
  },
  {
   "cell_type": "code",
   "execution_count": null,
   "id": "7589b50d",
   "metadata": {},
   "outputs": [],
   "source": [
    "class Loader:\n",
    "    MRI_TYPES = (\"FLAIR\", \"T1w\", \"T1wCE\", \"T2w\")\n",
    "    ROT_CHOICES = [cv2.ROTATE_90_CLOCKWISE, cv2.ROTATE_90_COUNTERCLOCKWISE, cv2.ROTATE_180]\n",
    "    PATH = path\n",
    "    \n",
    "    def __init__(self, mri_type, num_images=64, image_size=128):\n",
    "        self.mri_type = mri_type\n",
    "        self.image_size = image_size\n",
    "        self.num_images = num_images\n",
    "        \n",
    "    def create_path(self, patient_id, image_num, split='train'):\n",
    "        return self.PATH / split / patient_id / self.mri_type / f'Image-{image_num}.dcm'\n",
    "    \n",
    "    def load_dicom_image(self, path, voi_lut=True, rotation=None):\n",
    "        dicom = pydicom.read_file(path)\n",
    "        \n",
    "        image = pydicom.read_file(path).pixel_array\n",
    "        if voi_lut:\n",
    "            image = pydicom.pixel_data_handlers.util.apply_voi_lut(image, dicom)\n",
    "\n",
    "        if rotation is not None:\n",
    "            image = cv2.rotate(image, rotation)\n",
    "\n",
    "        image = cv2.resize(image, (self.image_size, self.image_size))\n",
    "        \n",
    "        return image\n",
    "\n",
    "    def load_dicom_images_3d(self, patient_id, split=\"train\", rotation=None):\n",
    "\n",
    "        filepath = path / split / patient_id / self.mri_type\n",
    "        dicom_filenames = sorted(filepath.glob(\"*.dcm\"), key=lambda x: x.stem.split('-')[-1])\n",
    "        s = self.images_selector(len(dicom_filenames))\n",
    "        \n",
    "        scan_images = np.stack([self.load_dicom_image(f, rotation=rotation) for f in dicom_filenames[s]]).T\n",
    "        \n",
    "        if scan_images.shape[-1] < self.num_images:\n",
    "            cnt_of_images_to_add = self.num_images - scan_images.shape[-1]\n",
    "            n_zero = np.zeros((self.image_size, self.image_size, cnt_of_images_to_add))\n",
    "            scan_images = np.concatenate((scan_images,  n_zero), axis = -1)\n",
    "\n",
    "        if np.min(scan_images) < np.max(scan_images):\n",
    "            scan_images = scan_images - np.min(scan_images)\n",
    "            scan_images = scan_images / np.max(scan_images)\n",
    "\n",
    "        return np.expand_dims(scan_images, -1)\n",
    "    \n",
    "    def images_selector(self, num_files):\n",
    "        middle = num_files // 2\n",
    "        p1 = max(0, middle - self.num_images // 2)\n",
    "        p2 = min(num_files, middle + self.num_images // 2)\n",
    "        return slice(p1, p2)\n",
    "    \n",
    "\n",
    "loaders = {mri_type: Loader(mri_type) for mri_type in Loader.MRI_TYPES}"
   ]
  },
  {
   "cell_type": "code",
   "execution_count": null,
   "id": "59676e33",
   "metadata": {},
   "outputs": [],
   "source": [
    "ldr = Loader('FLAIR')\n",
    "dicom_path = ldr.create_path('00675', 90)\n",
    "ldr.load_dicom_image(dicom_path)\n",
    "image = ldr.load_dicom_images_3d(\"00100\")\n",
    "image.shape"
   ]
  },
  {
   "cell_type": "code",
   "execution_count": null,
   "id": "f13b8d0b",
   "metadata": {},
   "outputs": [],
   "source": [
    "# random.seed(11)\n",
    "\n",
    "patient_path = random.choice(patient_paths)\n",
    "\n",
    "brats21id = patient_path.stem\n",
    "\n",
    "fig, axes = plt.subplots(1, 4, figsize=(16, 5))\n",
    "\n",
    "for ax, mri_type in zip(axes, Loader.MRI_TYPES):\n",
    "    ldr = loaders[mri_type]\n",
    "    mri_type_path = patient_path / mri_type\n",
    "    image_paths = sorted(mri_type_path.glob('*'), key=lambda x: x.stem.split('-')[-1])\n",
    "\n",
    "    image_path = image_paths[len(image_paths) // 2]\n",
    "    data = ldr.load_dicom_image(image_path)\n",
    "\n",
    "    outcome = training_labels.loc[brats21id, 'MGMT_value']\n",
    "\n",
    "    ax.imshow(data, cmap=\"gray\")\n",
    "    ax.set_title(mri_type, fontsize=16)\n",
    "    ax.axis(\"off\")\n",
    "\n",
    "fig.suptitle(f'Patient #{brats21id}: {outcome}', size=24)\n",
    "plt.tight_layout()\n",
    "plt.show()"
   ]
  },
  {
   "cell_type": "markdown",
   "id": "1542b51c",
   "metadata": {},
   "source": [
    "<a id=\"data_viz\"></a>\n",
    "\n",
    "<h2 class=\"section-heading\">\n",
    "    <span>\n",
    "    Data Visualization\n",
    "    </span>\n",
    "</h2>"
   ]
  },
  {
   "cell_type": "code",
   "execution_count": null,
   "id": "cd76e0e5",
   "metadata": {},
   "outputs": [],
   "source": [
    "bar_labels = training_labels.MGMT_value.value_counts(normalize=True).sort_index().map('{:0.1%}'.format).to_list()\n",
    "training_size = training_labels.shape[0]\n",
    "\n",
    "ax = sns.countplot(data=training_labels, x='MGMT_value')\n",
    "sns.despine(right=False)\n",
    "\n",
    "ax.set_title('MGMT Distribution ({:0.0f} records)'.format(training_size), size=16)\n",
    "ax.set_xticklabels(('Not Present', 'Present'))\n",
    "ax.set(xlabel='', ylabel='')\n",
    "\n",
    "# add bar labels\n",
    "for p, label in zip(ax.patches, bar_labels):\n",
    "    ax.annotate(label, (p.get_x()+0.375, p.get_height()+0.15))\n",
    "    \n",
    "plt.show()"
   ]
  },
  {
   "cell_type": "code",
   "execution_count": null,
   "id": "8d7663c2",
   "metadata": {},
   "outputs": [],
   "source": [
    "patient_dirs = train_path.glob('*')\n",
    "patient_dir = next(patient_dirs)\n",
    "patient_dir.name"
   ]
  },
  {
   "cell_type": "code",
   "execution_count": null,
   "id": "953ce81a",
   "metadata": {},
   "outputs": [],
   "source": [
    "patient_dirs = train_path.glob('*')\n",
    "\n",
    "scan_sizes = dict()\n",
    "\n",
    "records = dict()\n",
    "\n",
    "for patient_dir in patient_dirs:\n",
    "    record = dict()\n",
    "    for mri_type in Loader.MRI_TYPES:\n",
    "        images_path = patient_dir / mri_type\n",
    "        record[mri_type] = len(list(images_path.glob('*.dcm')))\n",
    "    \n",
    "    records[patient_dir.name] = record"
   ]
  },
  {
   "cell_type": "code",
   "execution_count": null,
   "id": "241f81bf",
   "metadata": {},
   "outputs": [],
   "source": [
    "df_mri_image_counts = pd.DataFrame(records).T\n",
    "\n",
    "ax = sns.boxplot(data=df_mri_image_counts)\n",
    "ax.set_title('Distribution of MRI Scan Image Counts')\n",
    "\n",
    "df_mri_image_counts.describe().applymap('{:,.0f}'.format)"
   ]
  },
  {
   "cell_type": "code",
   "execution_count": null,
   "id": "7b70b23d",
   "metadata": {},
   "outputs": [],
   "source": [
    "df_mri_image_counts.loc[df_mri_image_counts.FLAIR < 60, ]"
   ]
  },
  {
   "cell_type": "code",
   "execution_count": null,
   "id": "a8cbf604",
   "metadata": {},
   "outputs": [],
   "source": [
    "sns.countplot(data=df_mri_image_counts, x='FLAIR')"
   ]
  },
  {
   "cell_type": "code",
   "execution_count": null,
   "id": "4a78d03f",
   "metadata": {},
   "outputs": [],
   "source": [
    "df_mri_image_counts.sample(5)"
   ]
  },
  {
   "cell_type": "markdown",
   "id": "232a7fa5",
   "metadata": {},
   "source": [
    "**NOTE**: There are some unexpected issues with the following three cases in the training dataset, participants can exclude the cases during training: [00109, 00123, 00709]. We have checked and confirmed that the testing dataset is free from such issues."
   ]
  },
  {
   "cell_type": "markdown",
   "id": "2a9f07ff",
   "metadata": {},
   "source": [
    "<a id=\"modeling\"></a>\n",
    "\n",
    "<h2 class=\"section-heading\">\n",
    "    <span>\n",
    "        Modeling\n",
    "    </span>\n",
    "</h2>"
   ]
  },
  {
   "cell_type": "code",
   "execution_count": null,
   "id": "51570592",
   "metadata": {},
   "outputs": [],
   "source": [
    "class Patient:\n",
    "    MRI_TYPES = (\"FLAIR\", \"T1w\", \"T1wCE\", \"T2w\")\n",
    "    TRAINING_LABELS = training_labels\n",
    "    PATH = path\n",
    "    TRAIN_PATH = PATH / 'train'\n",
    "    \n",
    "    def __init__(self, brats21id):\n",
    "        self.brats21id = str(brats21id).zfill(5)\n",
    "        self.outcome = training_labels.loc[self.brats21id, 'MGMT_value']\n",
    "        self.patient_train_path = self.TRAIN_PATH / self.brats21id\n",
    "        \n",
    "    def __repr__(self):\n",
    "        return f\"Patient(brats21id={self.brats21id})\"\n",
    "        \n",
    "    \"\"\"\n",
    "    def load_mri_images(self, mri_type, subset='train'):\n",
    "        images = list()\n",
    "        \n",
    "        mri_type_path = self.patient_train_path / mri_type\n",
    "        image_paths = sorted(mri_type_path.glob('*'), key=lambda x: x.stem.split('-')[-1])\n",
    "        \n",
    "        for image_path in image_paths:\n",
    "            image = load_dicom(image_path)\n",
    "            images.append(image)\n",
    "        \n",
    "        return images\n",
    "    \"\"\""
   ]
  },
  {
   "cell_type": "code",
   "execution_count": null,
   "id": "024110f1",
   "metadata": {},
   "outputs": [],
   "source": [
    "p = Patient(675)\n",
    "assert str(p) == 'Patient(brats21id=00675)'\n",
    "assert p.outcome == 1\n",
    "# images = p.load_mri_images('FLAIR')\n",
    "# assert len(images) == 196"
   ]
  },
  {
   "cell_type": "code",
   "execution_count": null,
   "id": "6513d4c9",
   "metadata": {},
   "outputs": [],
   "source": [
    "brats21ids_idx = training_labels.index.tolist()\n",
    "training_cnt = len(brats21ids_idx)\n",
    "X, y, brats21ids = np.zeros((training_cnt, 128, 128, 64, 1)), np.zeros((training_cnt, 1)),  np.zeros((training_cnt, 1))\n",
    "mri_type = 'FLAIR'\n",
    "ldr = loaders[mri_type]\n",
    "\n",
    "for i, brats21id in enumerate(tqdm(brats21ids_idx)):\n",
    "    p = Patient(brats21id)\n",
    "    X[i] = ldr.load_dicom_images_3d(brats21id)\n",
    "    y[i] = p.outcome\n",
    "    brats21id_idx = brats21id"
   ]
  },
  {
   "cell_type": "code",
   "execution_count": null,
   "id": "455afb40",
   "metadata": {},
   "outputs": [],
   "source": [
    "splits = train_test_split(X,  y, brats21ids, test_size=0.2, random_state=11)\n",
    "X_train, X_valid, y_train, y_valid, brats21ids_train, brats21ids_valid = splits"
   ]
  },
  {
   "cell_type": "code",
   "execution_count": null,
   "id": "e07295eb",
   "metadata": {},
   "outputs": [],
   "source": [
    "model = tf.keras.Sequential(layers=[\n",
    "    InputLayer(input_shape=(128, 128, 64, 1)),\n",
    "    # Rescaling(1.0/255, name='rescaling_1'),\n",
    "    \n",
    "    Conv3D(64, kernel_size=3, activation='relu', name='conv3d_1'),\n",
    "    MaxPool3D(pool_size=2, name='max_pooling3d_1'),\n",
    "    BatchNormalization(),\n",
    "    \n",
    "    Conv3D(64, kernel_size=3, activation='relu', name='conv3d_2'),\n",
    "    MaxPool3D(pool_size=2, name='max_pooling3d_2'),\n",
    "    BatchNormalization(),\n",
    "    \n",
    "    Conv3D(128, kernel_size=3, activation='relu', name='conv3d_3'),\n",
    "    MaxPool3D(pool_size=2, name='max_pooling3d_3'),\n",
    "    BatchNormalization(),\n",
    "    \n",
    "    Conv3D(256, kernel_size=3, activation='relu', name='conv3d_4'),\n",
    "    MaxPool3D(pool_size=2, name='max_pooling3d_4'),\n",
    "    BatchNormalization(),\n",
    "    \n",
    "    GlobalAveragePooling3D(),\n",
    "    Dense(units=512, activation='relu'),\n",
    "    Dropout(0.3),\n",
    "    \n",
    "    Dense(units=1, activation='sigmoid')    \n",
    "])"
   ]
  },
  {
   "cell_type": "code",
   "execution_count": null,
   "id": "485d7636",
   "metadata": {},
   "outputs": [],
   "source": [
    "model.summary()"
   ]
  },
  {
   "cell_type": "code",
   "execution_count": null,
   "id": "a423fe02",
   "metadata": {},
   "outputs": [],
   "source": [
    "??model.fit"
   ]
  },
  {
   "cell_type": "code",
   "execution_count": null,
   "id": "ef4e7fee",
   "metadata": {},
   "outputs": [],
   "source": [
    "initial_learning_rate = 0.0001\n",
    "lr_schedule = tf.keras.optimizers.schedules.ExponentialDecay(\n",
    "    initial_learning_rate, decay_steps=100000, decay_rate=0.96, staircase=True\n",
    ")\n",
    "optimizer = tf.keras.optimizers.Adam(learning_rate=lr_schedule)\n",
    "model.compile(loss='binary_crossentropy', optimizer=optimizer, metrics=['accuracy', AUC(name='auc')])\n",
    "checkpoint_cb = tf.keras.callbacks.ModelCheckpoint(\n",
    "    \"3d_image_classification.h5\", save_best_only=True\n",
    ")\n",
    "early_stopping_cb = tf.keras.callbacks.EarlyStopping(monitor=\"auc\", patience=15)"
   ]
  },
  {
   "cell_type": "code",
   "execution_count": null,
   "id": "1cd5c3fa",
   "metadata": {},
   "outputs": [],
   "source": [
    "model.fit(X_train, y_train, validation_data=(X_valid, y_valid), batch_size=3, epochs=100, callbacks=[checkpoint_cb, early_stopping_cb])"
   ]
  },
  {
   "cell_type": "code",
   "execution_count": null,
   "id": "54204a25",
   "metadata": {},
   "outputs": [],
   "source": [
    "yhat_valid_probs = model.predict(X_valid)"
   ]
  },
  {
   "cell_type": "code",
   "execution_count": null,
   "id": "15ea798d",
   "metadata": {},
   "outputs": [],
   "source": [
    "frames = [pd.Series(brats21id_idx_valid), pd.Series(yhat_valid)]\n",
    "results = (pd.concat(frames, axis=1, keys=['brats21id', 'MGMT_value_pred'])\n",
    "           .groupby('brats21id', as_index=False).mean()\n",
    "           .rename(columns={'MGMT_value': 'MGMT_value_preds'})\n",
    "           .merge(training_labels, left_on='brats21id', right_index=True, how='left')\n",
    "          )"
   ]
  },
  {
   "cell_type": "code",
   "execution_count": null,
   "id": "4cde7aa1",
   "metadata": {},
   "outputs": [],
   "source": [
    "results.columns"
   ]
  },
  {
   "cell_type": "code",
   "execution_count": null,
   "id": "2502c85b",
   "metadata": {},
   "outputs": [],
   "source": [
    "roc_auc_score(results.MGMT_value, results.MGMT_value_pred)"
   ]
  }
 ],
 "metadata": {
  "kernelspec": {
   "display_name": "tf-gpu",
   "language": "python",
   "name": "tf-gpu"
  },
  "language_info": {
   "codemirror_mode": {
    "name": "ipython",
    "version": 3
   },
   "file_extension": ".py",
   "mimetype": "text/x-python",
   "name": "python",
   "nbconvert_exporter": "python",
   "pygments_lexer": "ipython3",
   "version": "3.9.7"
  }
 },
 "nbformat": 4,
 "nbformat_minor": 5
}
